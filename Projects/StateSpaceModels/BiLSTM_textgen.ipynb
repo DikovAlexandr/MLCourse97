{
  "nbformat": 4,
  "nbformat_minor": 0,
  "metadata": {
    "colab": {
      "provenance": []
    },
    "kernelspec": {
      "name": "python3",
      "display_name": "Python 3"
    },
    "language_info": {
      "name": "python"
    }
  },
  "cells": [
    {
      "cell_type": "code",
      "execution_count": null,
      "metadata": {
        "id": "bf4GkOZwpZan"
      },
      "outputs": [],
      "source": [
        "from collections import Counter\n",
        "\n",
        "import torch\n",
        "import torch.nn as nn\n",
        "import torch.nn.functional as F\n",
        "import numpy as np\n",
        "from time import time"
      ]
    },
    {
      "cell_type": "code",
      "source": [
        "TRAIN_TEXT_FILE_PATH = 'pushkin_stihi2.txt'\n",
        "\n",
        "with open(TRAIN_TEXT_FILE_PATH) as text_file:\n",
        "    text_sample = text_file.readlines()\n",
        "text_sample = ' '.join(text_sample)\n",
        "\n",
        "def text_to_seq(text_sample):\n",
        "    char_counts = Counter(text_sample)\n",
        "    char_counts = sorted(char_counts.items(), key = lambda x: x[1], reverse=True)\n",
        "\n",
        "    sorted_chars = [char for char, _ in char_counts]\n",
        "    print(sorted_chars)\n",
        "    char_to_idx = {char: index for index, char in enumerate(sorted_chars)}\n",
        "    idx_to_char = {v: k for k, v in char_to_idx.items()}\n",
        "    sequence = np.array([char_to_idx[char] for char in text_sample])\n",
        "\n",
        "    return sequence, char_to_idx, idx_to_char\n",
        "\n",
        "sequence, char_to_idx, idx_to_char = text_to_seq(text_sample)"
      ],
      "metadata": {
        "colab": {
          "base_uri": "https://localhost:8080/"
        },
        "id": "FT4M6kPy_DA3",
        "outputId": "49f3c497-afef-4326-a9bf-434282b6c7e6"
      },
      "execution_count": null,
      "outputs": [
        {
          "output_type": "stream",
          "name": "stdout",
          "text": [
            "[' ', 'о', 'е', 'а', 'н', 'т', 'и', '\\n', 'л', 'с', 'р', 'в', 'д', 'м', ',', 'у', 'к', 'ь', 'п', 'ы', 'й', 'я', 'г', 'б', 'з', '.', 'ч', 'ж', 'х', 'ш', 'ю', 'И', 'ц', 'В', 'Н', ';', 'П', 'О', 'С', '-', 'К', 'Т', ':', '\"', '!', 'Д', '?', 'щ', 'М', 'Б', 'Ч', 'З', 'А', 'Е', 'Г', 'У', 'Л', 'э', 'Я', 'e', 'Р', 'ф', 'Х', 't', 'a', 'r', 'i', 'l', 'ъ', 'n', 'Ж', 'o', 'Ц', 's', 'u', 'Ш', 'c', 'd', 'Ф', 'm', 'Э', 'v', 'f', 'b', \"'\", 'g', 'p', 'N', 'M', 'h', 'S', 'T', 'A', 'Ю', 'k', 'Й', 'P', 'q', 'y', 'B', 'L', 'z', 'w', 'C', 'H', 'O', 'Y', 'E', 'Q', 'W', 'R', 'G', 'F', 'D', 'I']\n"
          ]
        }
      ]
    },
    {
      "cell_type": "code",
      "source": [
        "SEQ_LEN = 256\n",
        "BATCH_SIZE = 16\n",
        "\n",
        "def get_batch(sequence):\n",
        "    trains = []\n",
        "    targets = []\n",
        "    for _ in range(BATCH_SIZE):\n",
        "        batch_start = np.random.randint(0, len(sequence) - SEQ_LEN)\n",
        "        chunk = sequence[batch_start: batch_start + SEQ_LEN]\n",
        "        train = torch.LongTensor(chunk[:-1]).view(-1, 1)\n",
        "        target = torch.LongTensor(chunk[1:]).view(-1, 1)\n",
        "        trains.append(train)\n",
        "        targets.append(target)\n",
        "    return torch.stack(trains, dim=0), torch.stack(targets, dim=0)"
      ],
      "metadata": {
        "id": "1nTRZfGo_Jvb"
      },
      "execution_count": null,
      "outputs": []
    },
    {
      "cell_type": "code",
      "source": [
        "def evaluate(model, char_to_idx, idx_to_char, start_text=' ', prediction_len=200, temp=0.3):\n",
        "    hidden = model.init_hidden()\n",
        "    idx_input = [char_to_idx[char] for char in start_text]\n",
        "    train = torch.LongTensor(idx_input).view(-1, 1, 1).to(device)\n",
        "    predicted_text = start_text\n",
        "\n",
        "    _, hidden = model(train, hidden)\n",
        "\n",
        "    inp = train[-1].view(-1, 1, 1)\n",
        "\n",
        "    for i in range(prediction_len):\n",
        "        output, hidden = model(inp.to(device), hidden)\n",
        "        output_logits = output.cpu().data.view(-1)\n",
        "        p_next = F.softmax(output_logits / temp, dim=-1).detach().cpu().data.numpy()\n",
        "        top_index = np.random.choice(len(char_to_idx), p=p_next)\n",
        "        inp = torch.LongTensor([top_index]).view(-1, 1, 1).to(device)\n",
        "        predicted_char = idx_to_char[top_index]\n",
        "        predicted_text += predicted_char\n",
        "\n",
        "    return predicted_text"
      ],
      "metadata": {
        "id": "UwycN88G_L-3"
      },
      "execution_count": null,
      "outputs": []
    },
    {
      "cell_type": "code",
      "source": [
        "class TextRNN(nn.Module):\n",
        "\n",
        "    def __init__(self, input_size, hidden_size, embedding_size, n_layers=1):\n",
        "        super(TextRNN, self).__init__()\n",
        "\n",
        "        self.input_size = input_size\n",
        "        self.hidden_size = hidden_size\n",
        "        self.embedding_size = embedding_size\n",
        "        self.n_layers = n_layers\n",
        "\n",
        "        self.encoder = nn.Embedding(self.input_size, self.embedding_size)\n",
        "        self.lstm = nn.LSTM(self.embedding_size, self.hidden_size, self.n_layers)\n",
        "        self.dropout = nn.Dropout(0.2)\n",
        "        self.fc = nn.Linear(self.hidden_size, self.input_size)\n",
        "\n",
        "    def forward(self, x, hidden):\n",
        "        x = self.encoder(x).squeeze(2)\n",
        "        out, (ht1, ct1) = self.lstm(x, hidden)\n",
        "        out = self.dropout(out)\n",
        "        x = self.fc(out)\n",
        "        return x, (ht1, ct1)\n",
        "\n",
        "    def backward(self, y, hidden):\n",
        "        y = self.encoder(y).squeeze(2)\n",
        "        out, (ht1, ct1) = self.lstm(y, hidden)\n",
        "        out = self.dropout(out)\n",
        "        y = self.fc(out)\n",
        "        return y, (ht1, ct1)\n",
        "\n",
        "    def init_hidden(self, batch_size=1):\n",
        "        return (torch.zeros(self.n_layers, batch_size, self.hidden_size, requires_grad=True).to(device),\n",
        "               torch.zeros(self.n_layers, batch_size, self.hidden_size, requires_grad=True).to(device))"
      ],
      "metadata": {
        "id": "TikjpEHx_OVI"
      },
      "execution_count": null,
      "outputs": []
    },
    {
      "cell_type": "code",
      "source": [
        "device = torch.device('cuda') if torch.cuda.is_available() else torch.device('cpu')\n",
        "model = TextRNN(input_size=len(idx_to_char), hidden_size=128, embedding_size=128, n_layers=2)\n",
        "model.to(device)\n",
        "\n",
        "criterion = nn.CrossEntropyLoss()\n",
        "optimizer = torch.optim.Adam(model.parameters(), lr=1e-2, amsgrad=True)\n",
        "scheduler = torch.optim.lr_scheduler.ReduceLROnPlateau(\n",
        "    optimizer,\n",
        "    patience=5,\n",
        "    verbose=True,\n",
        "    factor=0.5\n",
        ")\n",
        "\n",
        "n_epochs = 1000\n",
        "loss_avg = []\n",
        "t1 = time()\n",
        "for epoch in range(n_epochs):\n",
        "    model.train()\n",
        "    train, target = get_batch(sequence)\n",
        "    train = train.permute(1, 0, 2).to(device)\n",
        "    target = target.permute(1, 0, 2).to(device)\n",
        "    hidden = model.init_hidden(BATCH_SIZE)\n",
        "\n",
        "    output, hidden = model(train, hidden)\n",
        "    loss = criterion(output.permute(1, 2, 0), target.squeeze(-1).permute(1, 0))\n",
        "\n",
        "    loss.backward()\n",
        "    optimizer.step()\n",
        "    optimizer.zero_grad()\n",
        "\n",
        "    loss_avg.append(loss.item())\n",
        "    if len(loss_avg) >= 50:\n",
        "        mean_loss = np.mean(loss_avg)\n",
        "        print(f'Loss: {mean_loss}')\n",
        "        scheduler.step(mean_loss)\n",
        "        loss_avg = []\n",
        "        model.eval()\n",
        "\n",
        "print(\"Training time:\", time() - t1)"
      ],
      "metadata": {
        "colab": {
          "base_uri": "https://localhost:8080/"
        },
        "id": "SJNjaxlH_St9",
        "outputId": "cf2b97d5-e716-4210-fc54-4c166afeb402"
      },
      "execution_count": null,
      "outputs": [
        {
          "output_type": "stream",
          "name": "stderr",
          "text": [
            "/usr/local/lib/python3.11/dist-packages/torch/optim/lr_scheduler.py:62: UserWarning: The verbose parameter is deprecated. Please use get_last_lr() to access the learning rate.\n",
            "  warnings.warn(\n"
          ]
        },
        {
          "output_type": "stream",
          "name": "stdout",
          "text": [
            "Loss: 2.9771893787384034\n",
            "Loss: 2.421382436752319\n",
            "Loss: 2.2737652587890627\n",
            "Loss: 2.1830715131759644\n",
            "Loss: 2.1125550174713137\n",
            "Loss: 2.061673851013184\n",
            "Loss: 2.005985336303711\n",
            "Loss: 1.960284538269043\n",
            "Loss: 1.92588458776474\n",
            "Loss: 1.8997974801063537\n",
            "Loss: 1.8683221387863158\n",
            "Loss: 1.8568591928482057\n",
            "Loss: 1.8241076016426085\n",
            "Loss: 1.8170871829986572\n",
            "Loss: 1.7936054348945618\n",
            "Loss: 1.7830493116378785\n",
            "Loss: 1.764551181793213\n",
            "Loss: 1.744705855846405\n",
            "Loss: 1.7455802536010743\n",
            "Loss: 1.7327102851867675\n",
            "Training time: 270.7499358654022\n"
          ]
        }
      ]
    },
    {
      "cell_type": "code",
      "source": [
        "model.eval()\n",
        "print(evaluate(\n",
        "    model,\n",
        "    char_to_idx,\n",
        "    idx_to_char,\n",
        "    temp=0.3,\n",
        "    prediction_len=200,\n",
        "    start_text='Я помню чудное '\n",
        "    )\n",
        ")"
      ],
      "metadata": {
        "colab": {
          "base_uri": "https://localhost:8080/"
        },
        "id": "zN3WaoIn_WQb",
        "outputId": "1cef1408-d68e-4e13-e9de-51f73a6369ce"
      },
      "execution_count": null,
      "outputs": [
        {
          "output_type": "stream",
          "name": "stdout",
          "text": [
            "Я помню чудное лет.\n",
            " Но не только в сад на свой она\n",
            " И все в так веселый постой,\n",
            " И в сердце все волна бы стало,\n",
            " И все на под ней как на своей\n",
            " В темно в нем верно в своей свой столов,\n",
            " И поверет не своей отвершины\n"
          ]
        }
      ]
    },
    {
      "cell_type": "markdown",
      "source": [],
      "metadata": {
        "id": "NoPuKhX2bFpe"
      }
    }
  ]
}