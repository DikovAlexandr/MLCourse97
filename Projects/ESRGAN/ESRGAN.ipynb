{
  "nbformat": 4,
  "nbformat_minor": 0,
  "metadata": {
    "colab": {
      "provenance": [],
      "gpuType": "T4"
    },
    "kernelspec": {
      "name": "python3",
      "display_name": "Python 3"
    },
    "language_info": {
      "name": "python"
    }
  },
  "cells": [
    {
      "cell_type": "markdown",
      "source": [
        "Тестовый запуск модели"
      ],
      "metadata": {
        "id": "O4DFDd2ZaA9o"
      }
    },
    {
      "cell_type": "code",
      "execution_count": null,
      "metadata": {
        "id": "UY-YRZYkUZVA"
      },
      "outputs": [],
      "source": [
        "import numpy as np\n",
        "import matplotlib.pyplot as plt\n",
        "import pandas as pd\n",
        "import requests\n",
        "import time"
      ]
    },
    {
      "cell_type": "code",
      "source": [
        "!git clone https://github.com/xinntao/ESRGAN\n",
        "!cd ESRGAN"
      ],
      "metadata": {
        "colab": {
          "base_uri": "https://localhost:8080/"
        },
        "id": "H39qFvVzUgQI",
        "outputId": "61073cec-2730-41b7-eaf0-7ebc6d116b22",
        "collapsed": true
      },
      "execution_count": null,
      "outputs": [
        {
          "output_type": "stream",
          "name": "stdout",
          "text": [
            "Cloning into 'ESRGAN'...\n",
            "remote: Enumerating objects: 225, done.\u001b[K\n",
            "remote: Counting objects: 100% (20/20), done.\u001b[K\n",
            "remote: Compressing objects: 100% (6/6), done.\u001b[K\n",
            "remote: Total 225 (delta 15), reused 14 (delta 14), pack-reused 205 (from 1)\u001b[K\n",
            "Receiving objects: 100% (225/225), 24.86 MiB | 10.76 MiB/s, done.\n",
            "Resolving deltas: 100% (85/85), done.\n"
          ]
        }
      ]
    },
    {
      "cell_type": "code",
      "source": [
        "import os\n",
        "\n",
        "import os.path as osp\n",
        "import glob\n",
        "import cv2\n",
        "import numpy as np\n",
        "import torch\n",
        "import ESRGAN.RRDBNet_arch as arch"
      ],
      "metadata": {
        "id": "uHIfLqTVWzQb"
      },
      "execution_count": null,
      "outputs": []
    },
    {
      "cell_type": "code",
      "source": [
        "\n",
        "\n",
        "model_path = 'ESRGAN/models/RRDB_ESRGAN_x4.pth'  # models/RRDB_ESRGAN_x4.pth OR models/RRDB_PSNR_x4.pth\n",
        "device = torch.device('cuda')  # if you want to run on CPU, change 'cuda' -> cpu\n",
        "#device = torch.device('cpu')\n",
        "\n",
        "test_img_folder = 'ESRGAN/LR/*'\n",
        "\n",
        "model = arch.RRDBNet(3, 3, 64, 23, gc=32)\n",
        "model.load_state_dict(torch.load(model_path), strict=True)\n",
        "model.eval()\n",
        "model = model.to(device)\n",
        "\n",
        "print('Model path {:s}. \\nTesting...'.format(model_path))\n",
        "\n",
        "idx = 0\n",
        "for path in glob.glob(test_img_folder):\n",
        "    idx += 1\n",
        "    base = osp.splitext(osp.basename(path))[0]\n",
        "    print(idx, base)\n",
        "    # read images\n",
        "    img = cv2.imread(path, cv2.IMREAD_COLOR)\n",
        "    img = img * 1.0 / 255\n",
        "    img = torch.from_numpy(np.transpose(img[:, :, [2, 1, 0]], (2, 0, 1))).float()\n",
        "    img_LR = img.unsqueeze(0)\n",
        "    img_LR = img_LR.to(device)\n",
        "\n",
        "    with torch.no_grad():\n",
        "        output = model(img_LR).data.squeeze().float().cpu().clamp_(0, 1).numpy()\n",
        "    output = np.transpose(output[[2, 1, 0], :, :], (1, 2, 0))\n",
        "    output = (output * 255.0).round()\n",
        "    cv2.imwrite('ESRGAN/results/{:s}_rlt.png'.format(base), output)"
      ],
      "metadata": {
        "colab": {
          "base_uri": "https://localhost:8080/"
        },
        "id": "iPAnbHtoV3kL",
        "outputId": "31b3cb0c-c33a-4dd6-a6fc-4ed721a888e1"
      },
      "execution_count": null,
      "outputs": [
        {
          "output_type": "stream",
          "name": "stdout",
          "text": [
            "Model path ESRGAN/models/RRDB_ESRGAN_x4.pth. \n",
            "Testing...\n",
            "1 baboon\n",
            "2 comic\n"
          ]
        }
      ]
    },
    {
      "cell_type": "markdown",
      "source": [
        "Запускаем на датасете"
      ],
      "metadata": {
        "id": "YWvfYZW_aLHa"
      }
    },
    {
      "cell_type": "code",
      "source": [
        "import os\n",
        "import zipfile\n",
        "import random\n",
        "import requests\n",
        "\n",
        "# --- Настройки ---\n",
        "output_dir = \"output\"\n",
        "hr_folder = os.path.join(output_dir, \"HR\")\n",
        "lr_folder = os.path.join(output_dir, \"LR\")\n",
        "\n",
        "hr_url = \"http://data.vision.ee.ethz.ch/cvl/DIV2K/DIV2K_train_HR.zip\"\n",
        "lr_url = \"http://data.vision.ee.ethz.ch/cvl/DIV2K/DIV2K_train_LR_bicubic_X2.zip\"\n",
        "\n",
        "hr_zip_path = \"DIV2K_train_HR.zip\"\n",
        "lr_zip_path = \"DIV2K_train_LR_bicubic_X2.zip\"\n",
        "\n",
        "# --- Создание папок ---\n",
        "os.makedirs(hr_folder, exist_ok=True)\n",
        "os.makedirs(lr_folder, exist_ok=True)\n",
        "\n",
        "# --- Скачивание архива (если не скачан) ---\n",
        "def download_file(url, path):\n",
        "    if not os.path.exists(path):\n",
        "        print(f\"Скачиваю {url} ...\")\n",
        "        r = requests.get(url, stream=True)\n",
        "        with open(path, 'wb') as f:\n",
        "            for chunk in r.iter_content(1024):\n",
        "                f.write(chunk)\n",
        "        print(f\"Скачано: {path}\")\n",
        "    else:\n",
        "        print(f\"Уже скачан: {path}\")\n",
        "\n",
        "# --- Скачиваем архивы ---\n",
        "download_file(hr_url, hr_zip_path)\n",
        "download_file(lr_url, lr_zip_path)\n",
        "\n",
        "# --- Случайные 5 индексов (800-900) ---\n",
        "selected_indices = random.sample(range(800, 901), 5)\n",
        "print(\"Выбранные изображения:\", selected_indices)\n",
        "\n",
        "# --- Распаковка выборочно ---\n",
        "def extract_selected(zip_path, file_template, indices, output_folder):\n",
        "    with zipfile.ZipFile(zip_path, 'r') as z:\n",
        "        for idx in indices:\n",
        "            filename = file_template.format(idx)\n",
        "            if filename in z.namelist():\n",
        "                z.extract(filename, output_folder)\n",
        "                print(f\"Извлечено: {filename}\")\n",
        "            else:\n",
        "                print(f\"Файл не найден в архиве: {filename}\")\n",
        "\n",
        "# --- Распаковываем HR ---\n",
        "extract_selected(\n",
        "    zip_path=hr_zip_path,\n",
        "    file_template=\"DIV2K_train_HR/{:04d}.png\",\n",
        "    indices=selected_indices,\n",
        "    output_folder=hr_folder\n",
        ")\n",
        "\n",
        "# --- Распаковываем LR x2 ---\n",
        "extract_selected(\n",
        "    zip_path=lr_zip_path,\n",
        "    file_template=\"DIV2K_train_LR_bicubic/X2/{:04d}x2.png\",\n",
        "    indices=selected_indices,\n",
        "    output_folder=lr_folder\n",
        ")"
      ],
      "metadata": {
        "colab": {
          "base_uri": "https://localhost:8080/"
        },
        "collapsed": true,
        "id": "kgDkTgqJMxMh",
        "outputId": "d7fb685a-c9c9-4aaa-a72f-ed6b5428ba92"
      },
      "execution_count": null,
      "outputs": [
        {
          "output_type": "stream",
          "name": "stdout",
          "text": [
            "Скачиваю http://data.vision.ee.ethz.ch/cvl/DIV2K/DIV2K_train_HR.zip ...\n",
            "Скачано: DIV2K_train_HR.zip\n",
            "Скачиваю http://data.vision.ee.ethz.ch/cvl/DIV2K/DIV2K_train_LR_bicubic_X2.zip ...\n",
            "Скачано: DIV2K_train_LR_bicubic_X2.zip\n",
            "Выбранные изображения: [838, 848, 899, 843, 830]\n",
            "Файл не найден в архиве: DIV2K_train_HR/0838.png\n",
            "Файл не найден в архиве: DIV2K_train_HR/0848.png\n",
            "Файл не найден в архиве: DIV2K_train_HR/0899.png\n",
            "Файл не найден в архиве: DIV2K_train_HR/0843.png\n",
            "Файл не найден в архиве: DIV2K_train_HR/0830.png\n",
            "Файл не найден в архиве: DIV2K_train_LR_bicubic/X2/0838x2.png\n",
            "Файл не найден в архиве: DIV2K_train_LR_bicubic/X2/0848x2.png\n",
            "Файл не найден в архиве: DIV2K_train_LR_bicubic/X2/0899x2.png\n",
            "Файл не найден в архиве: DIV2K_train_LR_bicubic/X2/0843x2.png\n",
            "Файл не найден в архиве: DIV2K_train_LR_bicubic/X2/0830x2.png\n"
          ]
        }
      ]
    },
    {
      "cell_type": "markdown",
      "source": [
        "Делаем для видео"
      ],
      "metadata": {
        "id": "Sj3UzxwJbsPy"
      }
    },
    {
      "cell_type": "code",
      "source": [
        "!pip install opencv-python numpy"
      ],
      "metadata": {
        "colab": {
          "base_uri": "https://localhost:8080/"
        },
        "id": "bX05_iqIcaqZ",
        "outputId": "8f69e8b4-0fb6-4683-f182-d602e7d55c8d"
      },
      "execution_count": null,
      "outputs": [
        {
          "output_type": "stream",
          "name": "stdout",
          "text": [
            "Requirement already satisfied: opencv-python in /usr/local/lib/python3.11/dist-packages (4.11.0.86)\n",
            "Requirement already satisfied: numpy in /usr/local/lib/python3.11/dist-packages (2.0.2)\n"
          ]
        }
      ]
    },
    {
      "cell_type": "code",
      "source": [
        "import os\n",
        "import cv2\n",
        "import glob\n",
        "import numpy as np\n",
        "import torch\n",
        "import torchvision.transforms as transforms\n",
        "from tqdm import tqdm"
      ],
      "metadata": {
        "id": "WOo_wzWOcibU"
      },
      "execution_count": null,
      "outputs": []
    },
    {
      "cell_type": "code",
      "source": [
        "import ESRGAN.archs.rrdbnet_arch as arch  # Путь к архитектуре RRDBNet"
      ],
      "metadata": {
        "id": "hzipSW-lcsCS"
      },
      "execution_count": null,
      "outputs": []
    },
    {
      "cell_type": "code",
      "source": [
        "model_path = 'ESRGAN/models/RRDB_ESRGAN_x4.pth'\n",
        "device = torch.device('cpu')  # или 'cuda', если доступна\n",
        "input_video_path = 'cat_murr_and_meow.mp4'\n",
        "output_video_path = 'cat_murr_and_meow_upscaled.mp4'\n",
        "temp_frames_dir = 'ESRGAN/temp_frames/'\n",
        "results_dir = 'ESRGAN/results_video/'\n",
        "os.makedirs(temp_frames_dir, exist_ok=True)\n",
        "os.makedirs(results_dir, exist_ok=True)"
      ],
      "metadata": {
        "id": "ZpPCZ-LVcpLG"
      },
      "execution_count": null,
      "outputs": []
    },
    {
      "cell_type": "code",
      "source": [
        "\n",
        "# === ЗАГРУЗКА МОДЕЛИ ===\n",
        "model = arch.RRDBNet(3, 3, 64, 23, gc=32)\n",
        "model.load_state_dict(torch.load(model_path, map_location=device), strict=True)\n",
        "model.eval()\n",
        "model = model.to(device)"
      ],
      "metadata": {
        "id": "OGQX9BC8c3KR"
      },
      "execution_count": null,
      "outputs": []
    },
    {
      "cell_type": "code",
      "source": [
        "# === ИЗВЛЕЧЕНИЕ КАДРОВ ИЗ ВИДЕО ===\n",
        "cap = cv2.VideoCapture(input_video_path)\n",
        "fps = cap.get(cv2.CAP_PROP_FPS)\n",
        "w = int(cap.get(cv2.CAP_PROP_FRAME_WIDTH))\n",
        "h = int(cap.get(cv2.CAP_PROP_FRAME_HEIGHT))\n",
        "frame_paths = []\n",
        "\n",
        "frame_idx = 0\n",
        "print(\"Извлечение кадров...\")\n",
        "while cap.isOpened():\n",
        "    ret, frame = cap.read()\n",
        "    if not ret:\n",
        "        break\n",
        "    frame_path = os.path.join(temp_frames_dir, f\"frame_{frame_idx:04d}.png\")\n",
        "    cv2.imwrite(frame_path, frame)\n",
        "    frame_paths.append(frame_path)\n",
        "    frame_idx += 1\n",
        "cap.release()"
      ],
      "metadata": {
        "colab": {
          "base_uri": "https://localhost:8080/"
        },
        "id": "tCgn12bOc31C",
        "outputId": "f9627dc9-1461-4851-d069-d856b2241653"
      },
      "execution_count": null,
      "outputs": [
        {
          "output_type": "stream",
          "name": "stdout",
          "text": [
            "Извлечение кадров...\n"
          ]
        }
      ]
    },
    {
      "cell_type": "code",
      "source": [
        "# === АПСКЕЙЛ КАДРОВ С ПОМОЩЬЮ ESRGAN ===\n",
        "print(\"Апскейл кадров...\")\n",
        "for path in tqdm(frame_paths):\n",
        "    base = os.path.splitext(os.path.basename(path))[0]\n",
        "    img = cv2.imread(path, cv2.IMREAD_COLOR)\n",
        "    img = img * 1.0 / 255\n",
        "    img = torch.from_numpy(np.transpose(img[:, :, [2, 1, 0]], (2, 0, 1))).float()\n",
        "    img_LR = img.unsqueeze(0).to(device)\n",
        "\n",
        "    with torch.no_grad():\n",
        "        output = model(img_LR).data.squeeze().float().cpu().clamp_(0, 1).numpy()\n",
        "    output = np.transpose(output[[2, 1, 0], :, :], (1, 2, 0))\n",
        "    output = (output * 255.0).round().astype(np.uint8)\n",
        "    cv2.imwrite(os.path.join(results_dir, f\"{base}_upscaled.png\"), output)\n",
        "\n",
        "# === СОБИРАНИЕ ВИДЕО ОБРАТНО ===\n",
        "upscaled_frames = sorted(glob.glob(os.path.join(results_dir, '*_upscaled.png')))\n",
        "sample_frame = cv2.imread(upscaled_frames[0])\n",
        "height, width, _ = sample_frame.shape\n",
        "\n",
        "fourcc = cv2.VideoWriter_fourcc(*'mp4v')\n",
        "out = cv2.VideoWriter(output_video_path, fourcc, fps, (width, height))\n",
        "\n",
        "print(\"Сборка видео...\")\n",
        "for frame_path in upscaled_frames:\n",
        "    frame = cv2.imread(frame_path)\n",
        "    out.write(frame)\n",
        "out.release()\n",
        "\n",
        "print(f\"✅ Готово! Апскейленное видео сохранено как: {output_video_path}\")"
      ],
      "metadata": {
        "colab": {
          "base_uri": "https://localhost:8080/"
        },
        "id": "3CZ_hp1qdFlS",
        "outputId": "6062c2c9-18bf-4be0-fdd5-d570467d4d98"
      },
      "execution_count": null,
      "outputs": [
        {
          "metadata": {
            "tags": null
          },
          "name": "stdout",
          "output_type": "stream",
          "text": [
            "Апскейл кадров...\n"
          ]
        },
        {
          "output_type": "stream",
          "name": "stderr",
          "text": [
            "100%|██████████| 111/111 [3:19:36<00:00, 107.90s/it]\n"
          ]
        },
        {
          "output_type": "stream",
          "name": "stdout",
          "text": [
            "Сборка видео...\n",
            "✅ Готово! Апскейленное видео сохранено как: cat_murr_and_meow_upscaled.mp4\n"
          ]
        }
      ]
    }
  ]
}