{
 "cells": [
  {
   "cell_type": "markdown",
   "metadata": {},
   "source": [
    "# Метрики для оценки моделей машинного обучения"
   ]
  },
  {
   "cell_type": "markdown",
   "metadata": {},
   "source": [
    "## Метрики для классификации\n",
    "В задачах классификации метрики оценивают, насколько хорошо модель предсказывает классы. \n",
    "\n",
    "Различают метрики для бинарной и многоклассовой классификации."
   ]
  },
  {
   "cell_type": "code",
   "execution_count": 6,
   "metadata": {},
   "outputs": [],
   "source": [
    "import numpy as np\n",
    "\n",
    "\n",
    "y_true = np.array([0, 1, 1, 0, 0, 1, 0, 0, 1, 0])\n",
    "y_pred = np.array([0, 1, 0, 0, 1, 1, 1, 0, 1, 0])\n",
    "y_proba = np.array([0.1, 0.9, 0.4, 0.2, 0.8, 0.95, 0.6, 0.3, 0.85, 0.1])"
   ]
  },
  {
   "cell_type": "markdown",
   "metadata": {},
   "source": [
    "### Accuracy (Точность)\n",
    "Accuracy — это доля правильно классифицированных объектов от общего числа примеров:\n",
    "\n",
    "$$\n",
    "Accuracy = \\frac{TP + TN}{TP + TN + FP + FN}\n",
    "$$\n",
    "\n",
    "- **Где:**  \n",
    "  - $ TP $ (True Positive) — количество верно предсказанных положительных примеров.  \n",
    "  - $ TN $ (True Negative) — количество верно предсказанных отрицательных примеров.  \n",
    "  - $ FP $ (False Positive) — количество ошибочно отнесенных к положительному классу примеров.  \n",
    "  - $ FN $ (False Negative) — количество ошибочно отнесенных к отрицательному классу примеров.  \n",
    "\n",
    "**Применение:**  \n",
    "- Хорошо подходит, когда классы сбалансированы.  \n",
    "- Не подходит при сильном дисбалансе классов, так как можно получить высокую точность, просто предсказывая преобладающий класс."
   ]
  },
  {
   "cell_type": "code",
   "execution_count": null,
   "metadata": {},
   "outputs": [],
   "source": [
    "from sklearn.metrics import accuracy_score\n",
    "\n",
    "\n",
    "print(\"Accuracy:\", accuracy_score(y_true, y_pred))"
   ]
  },
  {
   "cell_type": "markdown",
   "metadata": {},
   "source": [
    "### Precision (Точность, положительная предсказательная способность)\n",
    "Precision показывает, какая доля предсказанных положительных классов действительно является положительной:\n",
    "\n",
    "$$\n",
    "Precision = \\frac{TP}{TP + FP}\n",
    "$$\n",
    "\n",
    "**Применение:**  \n",
    "- Используется, когда важно минимизировать количество ложных срабатываний (FP), например, в медицинских тестах."
   ]
  },
  {
   "cell_type": "code",
   "execution_count": null,
   "metadata": {},
   "outputs": [],
   "source": [
    "from sklearn.metrics import precision_score\n",
    "\n",
    "\n",
    "print(\"Precision:\", precision_score(y_true, y_pred))"
   ]
  },
  {
   "cell_type": "markdown",
   "metadata": {},
   "source": [
    "### Recall (Полнота, чувствительность)\n",
    "Recall показывает, какая доля реальных положительных примеров была найдена моделью:\n",
    "\n",
    "$$\n",
    "Recall = \\frac{TP}{TP + FN}\n",
    "$$\n",
    "\n",
    "**Применение:**  \n",
    "- Важен в задачах, где критично не пропускать положительные примеры, например, при выявлении мошенничества."
   ]
  },
  {
   "cell_type": "code",
   "execution_count": null,
   "metadata": {},
   "outputs": [],
   "source": [
    "from sklearn.metrics import recall_score\n",
    "\n",
    "\n",
    "print(\"Recall:\", recall_score(y_true, y_pred))"
   ]
  },
  {
   "cell_type": "markdown",
   "metadata": {},
   "source": [
    "### F1-score\n",
    "F1-score — это гармоническое среднее Precision и Recall:\n",
    "\n",
    "$$\n",
    "F1 = 2 \\times \\frac{Precision \\times Recall}{Precision + Recall}\n",
    "$$\n",
    "\n",
    "**Применение:**  \n",
    "- Используется, когда важно найти баланс между Precision и Recall, например, в задаче классификации спама."
   ]
  },
  {
   "cell_type": "code",
   "execution_count": null,
   "metadata": {},
   "outputs": [],
   "source": [
    "from sklearn.metrics import f1_score\n",
    "\n",
    "\n",
    "print(\"F1-score:\", f1_score(y_true, y_pred))"
   ]
  },
  {
   "cell_type": "markdown",
   "metadata": {},
   "source": [
    "\n",
    "### ROC AUC (Площадь под ROC-кривой)\n",
    "ROC-кривая показывает зависимость между True Positive Rate (TPR) и False Positive Rate (FPR):\n",
    "\n",
    "$$\n",
    "TPR = \\frac{TP}{TP + FN}, \\quad FPR = \\frac{FP}{FP + TN}\n",
    "$$\n",
    "\n",
    "AUC (Area Under Curve) — это площадь под ROC-кривой. Чем больше AUC, тем лучше модель.\n",
    "\n",
    "**Применение:**  \n",
    "- Позволяет оценить модель при различных порогах классификации.  \n",
    "- Подходит для задач с несбалансированными классами."
   ]
  },
  {
   "cell_type": "code",
   "execution_count": null,
   "metadata": {},
   "outputs": [],
   "source": [
    "from sklearn.metrics import roc_auc_score\n",
    "\n",
    "\n",
    "print(\"ROC AUC:\", roc_auc_score(y_true, y_proba))"
   ]
  },
  {
   "cell_type": "markdown",
   "metadata": {},
   "source": [
    "### Log Loss (Logarithmic Loss)\n",
    "Логарифмическая функция потерь измеряет расхождение между предсказанной вероятностью принадлежности к классу и реальным классом:\n",
    "\n",
    "$$\n",
    "LogLoss = -\\frac{1}{N} \\sum_{i=1}^{N} \\left[ y_i \\log(p_i) + (1 - y_i) \\log(1 - p_i) \\right]\n",
    "$$\n",
    "\n",
    "**Применение:**  \n",
    "- Используется в задачах, где важны вероятностные предсказания, например, в кредитном скоринге."
   ]
  },
  {
   "cell_type": "code",
   "execution_count": null,
   "metadata": {},
   "outputs": [],
   "source": [
    "from sklearn.metrics import log_loss\n",
    "\n",
    "\n",
    "print(\"Log Loss:\", log_loss(y_true, y_proba))"
   ]
  },
  {
   "cell_type": "code",
   "execution_count": null,
   "metadata": {},
   "outputs": [],
   "source": [
    "from sklearn.metrics import confusion_matrix\n",
    "\n",
    "y_true = [1, 0, 1, 1, 0, 0]\n",
    "y_pred = [1, 1, 1, 0, 0, 1]\n",
    "print(\"Confusion Matrix:\\n\", confusion_matrix(y_true, y_pred))"
   ]
  },
  {
   "cell_type": "markdown",
   "metadata": {},
   "source": [
    "#### Многоклассовая классификация\n",
    "\n",
    "Подходы к решению многоклассовых задач:\n",
    "\n",
    "- One-vs-All (OvA) / One-vs-Rest (OvR)\n",
    "\n",
    "    Идея: Для каждого класса обучается отдельный бинарный классификатор. Этот классификатор учится отличать данный класс от всех остальных классов.\n",
    "\n",
    "    Обучение: Если у нас K классов, то обучается K бинарных классификаторов. Для i-го классификатора все примеры класса i считаются положительными примерами, а все остальные – отрицательными.\n",
    "\n",
    "    Предсказание: Для нового объекта каждый из K классификаторов выдает вероятность принадлежности к своему классу. Объект относят к классу с наибольшей вероятностью.\n",
    "\n",
    "\n",
    "- One-vs-One (OvO)\n",
    "\n",
    "    Идея: Для каждой пары классов обучается отдельный бинарный классификатор.\n",
    "\n",
    "    Обучение: Если у нас K классов, то обучается K * (K - 1) / 2 бинарных классификаторов. Каждый классификатор обучается только на данных, относящихся к двум классам.\n",
    "\n",
    "    Предсказание: Для нового объекта каждый классификатор выдает свой \"голос\" за один из двух классов. Объект относят к классу, за который проголосовало большинство классификаторов.\n",
    "\n",
    "    Преимущества: Менее подвержен проблеме дисбаланса классов (по сравнению с OvA)."
   ]
  },
  {
   "cell_type": "code",
   "execution_count": null,
   "metadata": {},
   "outputs": [],
   "source": [
    "import numpy as np\n",
    "import matplotlib.pyplot as plt\n",
    "from sklearn.datasets import make_classification\n",
    "from sklearn.linear_model import LogisticRegression\n",
    "from sklearn.svm import SVC\n",
    "from sklearn.model_selection import train_test_split\n",
    "from sklearn.metrics import classification_report, confusion_matrix\n",
    "import seaborn as sns\n",
    "from sklearn.multiclass import OneVsRestClassifier, OneVsOneClassifier\n",
    "\n",
    "X, y = make_classification(n_samples=300, \n",
    "                           n_features=2, \n",
    "                           n_informative=2, \n",
    "                           n_redundant=0,\n",
    "                           n_clusters_per_class=1, \n",
    "                           random_state=42, \n",
    "                           n_classes=3)\n",
    "\n",
    "X_train, X_test, y_train, y_test = train_test_split(X, y, test_size=0.3, random_state=42)"
   ]
  },
  {
   "cell_type": "code",
   "execution_count": null,
   "metadata": {},
   "outputs": [],
   "source": [
    "ova_lr = OneVsRestClassifier(LogisticRegression())\n",
    "ova_lr.fit(X_train, y_train)\n",
    "ova_lr_pred = ova_lr.predict(X_test)\n",
    "print(\"OvA (Logistic Regression):\\n\", classification_report(y_test, ova_lr_pred))"
   ]
  },
  {
   "cell_type": "code",
   "execution_count": null,
   "metadata": {},
   "outputs": [],
   "source": [
    "ovo_lr = OneVsOneClassifier(LogisticRegression())\n",
    "ovo_lr.fit(X_train, y_train)\n",
    "ovo_lr_pred = ovo_lr.predict(X_test)\n",
    "print(\"OvO (Logistic Regression):\\n\", classification_report(y_test, ovo_lr_pred))"
   ]
  },
  {
   "cell_type": "code",
   "execution_count": null,
   "metadata": {},
   "outputs": [],
   "source": [
    "x_min, x_max = X[:, 0].min() - 1, X[:, 0].max() + 1\n",
    "y_min, y_max = X[:, 1].min() - 1, X[:, 1].max() + 1\n",
    "xx, yy = np.meshgrid(np.arange(x_min, x_max, 0.02),\n",
    "                     np.arange(y_min, y_max, 0.02))\n",
    "\n",
    "Z_ova = ova_lr.predict(np.c_[xx.ravel(), yy.ravel()])\n",
    "Z_ova = Z_ova.reshape(xx.shape)\n",
    "\n",
    "Z_ovo = ovo_lr.predict(np.c_[xx.ravel(), yy.ravel()])\n",
    "Z_ovo = Z_ovo.reshape(xx.shape)\n",
    "\n",
    "# Two plots in one figure\n",
    "fig, (ax1, ax2) = plt.subplots(1, 2, figsize=(8, 4))\n",
    "\n",
    "ax1.contourf(xx, yy, Z_ova, cmap=plt.cm.viridis, alpha=0.8)\n",
    "ax1.scatter(X[:, 0], X[:, 1], c=y, cmap=plt.cm.viridis, edgecolors='k')\n",
    "ax1.set_xlabel(\"Feature 1\")\n",
    "ax1.set_ylabel(\"Feature 2\")\n",
    "ax1.set_title(\"OvA Logistic Regression\")\n",
    "\n",
    "ax2.contourf(xx, yy, Z_ovo, cmap=plt.cm.viridis, alpha=0.8)\n",
    "ax2.scatter(X[:, 0], X[:, 1], c=y, cmap=plt.cm.viridis, edgecolors='k')\n",
    "ax2.set_xlabel(\"Feature 1\")\n",
    "ax2.set_ylabel(\"Feature 2\")\n",
    "ax2.set_title(\"OvO Logistic Regression\")\n",
    "\n",
    "plt.tight_layout()\n",
    "plt.show()"
   ]
  },
  {
   "cell_type": "markdown",
   "metadata": {},
   "source": [
    "#### Для многоклассовой классификации\n",
    "В многоклассовом случае confusion matrix расширяется до таблицы, где строки – истинные классы, а столбцы – предсказанные. Здесь используют следующие подходы для вычисления метрик:\n",
    "- Macro-average – усреднение метрик по каждому классу без учёта частот классов.\n",
    "- Micro-average – агрегирование TP, FP, FN по всем классам и последующее вычисление метрик.\n",
    "- Weighted-average – взвешенное усреднение, где для каждого класса вес равен его доле в выборке."
   ]
  },
  {
   "cell_type": "code",
   "execution_count": null,
   "metadata": {},
   "outputs": [],
   "source": [
    "import numpy as np\n",
    "import matplotlib.pyplot as plt\n",
    "from sklearn.metrics import confusion_matrix, precision_score, recall_score, f1_score\n",
    "import seaborn as sns\n",
    "\n",
    "y_true = [2, 0, 2, 1, 0, 0]\n",
    "y_pred = [0, 1, 2, 2, 0, 2]\n",
    "\n",
    "cm = confusion_matrix(y_true, y_pred)\n",
    "print(\"Confusion Matrix:\", )\n",
    "\n",
    "plt.figure(figsize=(4, 4))\n",
    "sns.heatmap(cm, annot=True, fmt=\"d\", cmap=\"Blues\")\n",
    "plt.xlabel(\"Predicted Label\")\n",
    "plt.ylabel(\"True Label\")\n",
    "plt.title(\"Confusion Matrix\")\n",
    "plt.show()"
   ]
  },
  {
   "cell_type": "code",
   "execution_count": null,
   "metadata": {},
   "outputs": [],
   "source": [
    "def calculate_metrics_per_class(cm):\n",
    "    \"\"\"\n",
    "    Рассчитывает precision, recall, и F1-score для каждого класса по матрице ошибок.\n",
    "    \"\"\"\n",
    "    n_classes = cm.shape[0]\n",
    "    metrics = {}\n",
    "    for i in range(n_classes):\n",
    "        tp = cm[i, i]\n",
    "        fp = np.sum(cm[:, i]) - tp\n",
    "        fn = np.sum(cm[i, :]) - tp\n",
    "        tn = np.sum(cm) - tp - fp - fn\n",
    "\n",
    "        precision = tp / (tp + fp) if (tp + fp) > 0 else 0\n",
    "        recall = tp / (tp + fn) if (tp + fn) > 0 else 0\n",
    "        f1 = 2 * (precision * recall) / (precision + recall) if (precision + recall) > 0 else 0\n",
    "\n",
    "        metrics[f'Class {i}'] = {'precision': round(precision, 3), \n",
    "                                           'recall': round(recall, 3), \n",
    "                                           'f1': round(f1, 3)}\n",
    "    return metrics\n",
    "\n",
    "metrics_per_class = calculate_metrics_per_class(confusion_matrix(y_true, y_pred))\n",
    "print(\"Metrics per class:\")\n",
    "for class_name, metrics in metrics_per_class.items():\n",
    "    print(f\"{class_name}: {metrics}\")"
   ]
  },
  {
   "cell_type": "code",
   "execution_count": 18,
   "metadata": {},
   "outputs": [],
   "source": [
    "def micro_average(cm):\n",
    "    \"\"\"\n",
    "    Рассчитывает micro-averaged precision, recall, и F1-score.\n",
    "    \"\"\"\n",
    "    tp_total = np.trace(cm)\n",
    "    fp_total = np.sum(cm) - tp_total\n",
    "    fn_total = np.sum(cm) - tp_total\n",
    "\n",
    "    precision = tp_total / (tp_total + fp_total)\n",
    "    recall = tp_total / (tp_total + fn_total)\n",
    "    f1 = precision\n",
    "\n",
    "    return {'precision': round(precision, 3), \n",
    "            'recall': round(recall, 3), \n",
    "            'f1': round(f1, 3)}\n",
    "\n",
    "def macro_average(metrics_per_class):\n",
    "    \"\"\"\n",
    "    Рассчитывает macro-averaged precision, recall, и F1-score.\n",
    "    \"\"\"\n",
    "    precisions = [metrics['precision'] for metrics in metrics_per_class.values()]\n",
    "    recalls = [metrics['recall'] for metrics in metrics_per_class.values()]\n",
    "    f1s = [metrics['f1'] for metrics in metrics_per_class.values()]\n",
    "\n",
    "    precision = np.mean(precisions)\n",
    "    recall = np.mean(recalls)\n",
    "    f1 = np.mean(f1s)\n",
    "\n",
    "    return {'precision': round(precision, 3), \n",
    "            'recall': round(recall, 3), \n",
    "            'f1': round(f1, 3)}\n",
    "\n",
    "def weighted_average(metrics_per_class, y_true):\n",
    "    \"\"\"\n",
    "    Рассчитывает weighted-averaged precision, recall, и F1-score.\n",
    "    \"\"\"\n",
    "    class_counts = np.bincount(np.array([label for label in y_true]))\n",
    "    total_samples = len(y_true)\n",
    "\n",
    "    precision_weighted = 0\n",
    "    recall_weighted = 0\n",
    "    f1_weighted = 0\n",
    "\n",
    "    for i, class_name in enumerate(metrics_per_class.keys()):\n",
    "      weight = class_counts[i] / total_samples\n",
    "      precision_weighted += weight * metrics_per_class[class_name]['precision']\n",
    "      recall_weighted += weight * metrics_per_class[class_name]['recall']\n",
    "      f1_weighted += weight * metrics_per_class[class_name]['f1']\n",
    "\n",
    "    return {'precision': round(precision_weighted, 3), \n",
    "            'recall': round(recall_weighted, 3), \n",
    "            'f1': round(f1_weighted, 3)}"
   ]
  },
  {
   "cell_type": "code",
   "execution_count": null,
   "metadata": {},
   "outputs": [],
   "source": [
    "micro_metrics = micro_average(confusion_matrix(y_true, y_pred))\n",
    "macro_metrics = macro_average(metrics_per_class)\n",
    "weighted_metrics = weighted_average(metrics_per_class, y_true)\n",
    "\n",
    "print(\"Micro Average:\", micro_metrics)\n",
    "print(\"Macro Average:\", macro_metrics)\n",
    "print(\"Weighted Average:\", weighted_metrics)"
   ]
  },
  {
   "cell_type": "code",
   "execution_count": null,
   "metadata": {},
   "outputs": [],
   "source": [
    "print(\"Micro (sklearn):\",  f1_score(y_true, y_pred, average='micro'))\n",
    "print(\"Macro (sklearn):\", f1_score(y_true, y_pred, average='macro'))\n",
    "print(\"Weighted (sklearn):\", f1_score(y_true, y_pred, average='weighted'))"
   ]
  },
  {
   "cell_type": "markdown",
   "metadata": {},
   "source": [
    "## Метрики для регрессии\n",
    "Регрессионные метрики оценивают, насколько точно модель предсказывает числовые значения.\n"
   ]
  },
  {
   "cell_type": "code",
   "execution_count": 14,
   "metadata": {},
   "outputs": [],
   "source": [
    "import numpy as np\n",
    "\n",
    "y_true = np.array([3.2, 2.8, 4.5, 3.7, 5.1])\n",
    "y_pred = np.array([3.0, 3.1, 4.2, 3.9, 5.0])"
   ]
  },
  {
   "cell_type": "markdown",
   "metadata": {},
   "source": [
    "### Mean Absolute Error (MAE)\n",
    "Средняя абсолютная ошибка (MAE) — это среднее абсолютное отклонение предсказанных значений от реальных:\n",
    "\n",
    "$$\n",
    "MAE = \\frac{1}{N} \\sum_{i=1}^{N} |y_i - \\hat{y}_i|\n",
    "$$\n",
    "\n",
    "**Преимущества:**  \n",
    "- Интерпретируемая, измеряется в тех же единицах, что и целевая переменная.  \n",
    "- Не штрафует за большие ошибки так же сильно, как MSE.\n",
    "\n",
    "**Применение:**  \n",
    "- Подходит, когда важна средняя ошибка предсказаний."
   ]
  },
  {
   "cell_type": "code",
   "execution_count": null,
   "metadata": {},
   "outputs": [],
   "source": [
    "from sklearn.metrics import mean_absolute_error\n",
    "\n",
    "\n",
    "print(\"Mean Absolute Error:\", mean_absolute_error(y_true, y_pred))"
   ]
  },
  {
   "cell_type": "markdown",
   "metadata": {},
   "source": [
    "### Mean Squared Error (MSE)\n",
    "Среднеквадратичная ошибка (MSE) увеличивает штраф за большие ошибки:\n",
    "\n",
    "$$\n",
    "MSE = \\frac{1}{N} \\sum_{i=1}^{N} (y_i - \\hat{y}_i)^2\n",
    "$$\n",
    "\n",
    "**Преимущества:**  \n",
    "- Удобна для оптимизации (градиентный спуск), так как дифференцируема.  \n",
    "- Чувствительна к выбросам.\n",
    "\n",
    "**Применение:**  \n",
    "- Используется в задачах, где важно минимизировать большие ошибки."
   ]
  },
  {
   "cell_type": "code",
   "execution_count": null,
   "metadata": {},
   "outputs": [],
   "source": [
    "from sklearn.metrics import mean_squared_error\n",
    "\n",
    "\n",
    "print(\"Mean Squared Error:\", mean_squared_error(y_true, y_pred))"
   ]
  },
  {
   "cell_type": "markdown",
   "metadata": {},
   "source": [
    "### Root Mean Squared Error (RMSE)\n",
    "Корень из MSE:\n",
    "\n",
    "$$\n",
    "RMSE = \\sqrt{MSE}\n",
    "$$\n",
    "\n",
    "**Преимущества:**  \n",
    "- Измеряется в тех же единицах, что и целевая переменная.  \n",
    "- Подчеркивает крупные ошибки.\n",
    "\n",
    "**Применение:**  \n",
    "- Подходит, когда важно учитывать большие ошибки."
   ]
  },
  {
   "cell_type": "code",
   "execution_count": null,
   "metadata": {},
   "outputs": [],
   "source": [
    "print(\"RMSE:\", np.sqrt(mean_squared_error(y_true, y_pred)))"
   ]
  },
  {
   "cell_type": "markdown",
   "metadata": {},
   "source": [
    "### R² (Коэффициент детерминации)\n",
    "R² измеряет, какую долю дисперсии целевой переменной объясняет модель:\n",
    "\n",
    "$$\n",
    "R^2 = 1 - \\frac{\\sum (y_i - \\hat{y}_i)^2}{\\sum (y_i - \\bar{y})^2}\n",
    "$$\n",
    "\n",
    "- $ y_i $ - истинное значение целевой переменной.\n",
    "- $ \\hat{y}_i $ - предсказанное значение модели.\n",
    "- $ \\bar{y} $ - среднее значение целевой переменной по всем наблюдениям:\n",
    "\n",
    "**Применение:**  \n",
    "- Позволяет оценить, насколько хорошо модель объясняет данные."
   ]
  },
  {
   "cell_type": "code",
   "execution_count": null,
   "metadata": {},
   "outputs": [],
   "source": [
    "from sklearn.metrics import r2_score\n",
    "\n",
    "\n",
    "print(\"R² Score:\", r2_score(y_true, y_pred))"
   ]
  },
  {
   "cell_type": "markdown",
   "metadata": {},
   "source": [
    "### MAPE (Mean Absolute Percentage Error)\n",
    "MAPE (средняя абсолютная процентная ошибка) измеряет среднюю величину ошибок модели в процентах относительно истинных значений. Это удобная метрика для оценки регрессионных моделей, поскольку позволяет интерпретировать ошибку в понятных процентных единицах.\n",
    "\n",
    "$$\n",
    "MAPE = \\frac{100\\%}{n} \\sum_{i=1}^{n} \\left| \\frac{y_i - \\hat{y}_i}{y_i} \\right|\n",
    "$$\n",
    "\n",
    "**Преимущества**\n",
    "- Легко интерпретировать, результат показывает среднюю ошибку в процентах от фактического значения.\n",
    "- Универсальна для разных масштабов, так как относительная ошибка не зависит от единиц измерения.\n",
    "\n",
    "**Ограничения:**\n",
    "- Если в данных встречаются нулевые значения \\( y_i \\), формула может приводить к делению на ноль, что требует специальных подходов (например, добавление малой константы).\n"
   ]
  },
  {
   "cell_type": "code",
   "execution_count": null,
   "metadata": {},
   "outputs": [],
   "source": [
    "def mape(y_true, y_pred, epsilon=1e-8):\n",
    "    \"\"\"\n",
    "    Рассчитывает среднюю абсолютную процентную ошибку (MAPE).\n",
    "    \n",
    "    Параметры:\n",
    "    y_true : массив истинных значений\n",
    "    y_pred : массив предсказанных значений\n",
    "    \n",
    "    Возвращает:\n",
    "    MAPE в процентах\n",
    "    \"\"\"\n",
    "    percentage_errors = np.abs((y_true - y_pred) / (y_true + epsilon))\n",
    "    \n",
    "    mape = np.mean(percentage_errors) * 100\n",
    "    return mape\n",
    "\n",
    "print(\"MAPE:\", mape(y_true, y_pred))"
   ]
  },
  {
   "cell_type": "markdown",
   "metadata": {},
   "source": [
    "## Метрики для кластеризации\n",
    "В задачах кластеризации используются метрики, оценивающие качество разбиения данных."
   ]
  },
  {
   "cell_type": "code",
   "execution_count": 23,
   "metadata": {},
   "outputs": [],
   "source": [
    "from sklearn.cluster import KMeans\n",
    "from sklearn.datasets import make_blobs\n",
    "\n",
    "X, y_true = make_blobs(n_samples=100, centers=3, random_state=42)\n",
    "\n",
    "kmeans = KMeans(n_clusters=3, random_state=42, n_init=10)\n",
    "y_pred = kmeans.fit_predict(X)"
   ]
  },
  {
   "cell_type": "markdown",
   "metadata": {},
   "source": [
    "### Silhouette Score (Силуэтный коэффициент)\n",
    "Измеряет, насколько объекты внутри кластера ближе друг к другу, чем к объектам из других кластеров:\n",
    "\n",
    "$$\n",
    "s_i = \\frac{b_i - a_i}{\\max(a_i, b_i)}\n",
    "$$\n",
    "\n",
    "- $ a_i $ — среднее расстояние от объекта до других объектов внутри его кластера.  \n",
    "- $ b_i $ — среднее расстояние от объекта до объектов ближайшего кластера.\n",
    "\n",
    "**Применение:**  \n",
    "- Используется для оценки качества кластеризации без истинных меток."
   ]
  },
  {
   "cell_type": "code",
   "execution_count": null,
   "metadata": {},
   "outputs": [],
   "source": [
    "from sklearn.metrics import silhouette_score\n",
    "\n",
    "\n",
    "print(\"Silhouette Score:\", silhouette_score(X, y_pred))"
   ]
  },
  {
   "cell_type": "markdown",
   "metadata": {},
   "source": [
    "### Davies-Bouldin Index\n",
    "Оценивает среднее отношение внутрикластерного расстояния к межкластерному:\n",
    "\n",
    "$$\n",
    "DBI = \\frac{1}{N} \\sum_{i=1}^{N} \\max_{j \\neq i} \\frac{\\sigma_i + \\sigma_j}{d_{ij}}\n",
    "$$\n",
    "\n",
    "**Применение:**  \n",
    "- Чем меньше значение, тем лучше кластеризация."
   ]
  },
  {
   "cell_type": "code",
   "execution_count": null,
   "metadata": {},
   "outputs": [],
   "source": [
    "from sklearn.metrics import davies_bouldin_score\n",
    "\n",
    "\n",
    "print(\"Davies-Bouldin Index:\", davies_bouldin_score(X, y_pred))"
   ]
  },
  {
   "cell_type": "markdown",
   "metadata": {},
   "source": [
    "### Adjusted Rand Index (ARI)\n",
    "Измеряет сходство между предсказанными кластерами и истинными метками:\n",
    "\n",
    "$$\n",
    "ARI = \\frac{\\sum_{ij} \\binom{n_{ij}}{2} - \\left[\\sum_i \\binom{a_i}{2} \\sum_j \\binom{b_j}{2} \\right] / \\binom{N}{2}}{0.5 \\left[\\sum_i \\binom{a_i}{2} + \\sum_j \\binom{b_j}{2} \\right] - \\left[\\sum_i \\binom{a_i}{2} \\sum_j \\binom{b_j}{2} \\right] / \\binom{N}{2}}\n",
    "$$\n",
    "\n",
    "**Применение:**  \n",
    "- Используется, когда есть истинные метки кластеров."
   ]
  },
  {
   "cell_type": "code",
   "execution_count": null,
   "metadata": {},
   "outputs": [],
   "source": [
    "from sklearn.metrics import adjusted_rand_score\n",
    "\n",
    "\n",
    "print(\"Adjusted Rand Index:\", adjusted_rand_score(y_true, y_pred))"
   ]
  },
  {
   "cell_type": "code",
   "execution_count": null,
   "metadata": {},
   "outputs": [],
   "source": [
    "import sklearn.metrics\n",
    "\n",
    "# help(sklearn.metrics)\n",
    "dir(sklearn.metrics)"
   ]
  },
  {
   "cell_type": "code",
   "execution_count": null,
   "metadata": {},
   "outputs": [],
   "source": []
  }
 ],
 "metadata": {
  "kernelspec": {
   "display_name": "base",
   "language": "python",
   "name": "python3"
  },
  "language_info": {
   "codemirror_mode": {
    "name": "ipython",
    "version": 3
   },
   "file_extension": ".py",
   "mimetype": "text/x-python",
   "name": "python",
   "nbconvert_exporter": "python",
   "pygments_lexer": "ipython3",
   "version": "3.12.3"
  }
 },
 "nbformat": 4,
 "nbformat_minor": 2
}
