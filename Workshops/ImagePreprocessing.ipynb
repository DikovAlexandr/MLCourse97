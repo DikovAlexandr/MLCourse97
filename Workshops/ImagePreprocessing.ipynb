{
 "cells": [
  {
   "cell_type": "markdown",
   "metadata": {},
   "source": [
    "# Представление изображений и предобработка"
   ]
  },
  {
   "cell_type": "code",
   "execution_count": null,
   "metadata": {},
   "outputs": [],
   "source": [
    "!pip install opencv-python -q"
   ]
  },
  {
   "cell_type": "code",
   "execution_count": 7,
   "metadata": {},
   "outputs": [],
   "source": [
    "import cv2\n",
    "import requests\n",
    "import numpy as np\n",
    "import matplotlib.pyplot as plt"
   ]
  },
  {
   "cell_type": "markdown",
   "metadata": {
    "vscode": {
     "languageId": "plaintext"
    }
   },
   "source": [
    "## Представление изображений\n",
    "\n",
    "Цифровое изображение можно рассматривать как двумерную матрицу, где каждый элемент соответствует пикселю. В случае цветных изображений мы имеем три матрицы (обычно для каналов R, G, B). Если $ I(x,y) $ обозначает яркость пикселя в точке $(x,y)$, то общее изображение представляется как:\n",
    "\n",
    "$$\n",
    "I = \\{ I(x,y) \\,|\\, x = 1,\\ldots, M; \\; y = 1,\\ldots, N \\}\n",
    "$$\n",
    "\n",
    "где $ M $ и $ N $ – размеры изображения."
   ]
  },
  {
   "cell_type": "markdown",
   "metadata": {},
   "source": [
    "### Гистограмма изображения\n",
    "\n",
    "Гистограмма изображений – это распределение яркости пикселей. Для каждого уровня интенсивности $ i $ (например, от 0 до 255 для 8-битных изображений) можно определить гистограмму $ H(i) $ следующим образом:\n",
    "\n",
    "$$\n",
    "H(i) = \\sum_{x=1}^{M} \\sum_{y=1}^{N} \\delta(I(x,y) - i)\n",
    "$$\n",
    "\n",
    "где $ \\delta $ – дельта-функция Кронекера, равная 1, если $ I(x,y) = i $, и 0 в противном случае.\n",
    "\n",
    "Гистограмма помогает понять распределение яркости, выявить проблемы контраста или насыщенности, а также служит основой для таких алгоритмов, как выравнивание гистограммы."
   ]
  },
  {
   "cell_type": "markdown",
   "metadata": {},
   "source": [
    "### Фильтры и свёртка\n",
    "\n",
    "Фильтры применяются для улучшения качества изображения, выделения структур или подавления шума. Одним из основных методов является свёртка изображения с ядром фильтра. Если $ h(u,v) $ – ядро свёртки, то результирующее изображение $ I'(x,y) $ вычисляется по формуле:\n",
    "\n",
    "$$\n",
    "I'(x,y) = \\sum_{u=-k}^{k} \\sum_{v=-k}^{k} I(x+u, y+v) \\cdot h(u,v)\n",
    "$$\n",
    "\n",
    "где $ k $ определяется размером фильтра (например, для фильтра $3 \\times 3$ $ k=1 $).  \n",
    "**Примеры фильтров и результатов их применения:**\n",
    "\n",
    "| **Формула свёртки** | **Результат применения** |\n",
    "|---------------------|--------------------------|\n",
    "| **Identity Filter** <br> $ \\begin{bmatrix} 0 & 0 & 0 \\\\ 0 & 1 & 0 \\\\ 0 & 0 & 0 \\end{bmatrix} $ | Оставляет изображение без изменений – используется для проверки корректности алгоритма свёртки. |\n",
    "| **Mean Filter (Box Blur)** <br> $ \\frac{1}{9}\\begin{bmatrix} 1 & 1 & 1 \\\\ 1 & 1 & 1 \\\\ 1 & 1 & 1 \\end{bmatrix} $ | Сглаживает изображение, уменьшая шум, но также смягчает мелкие детали и края. |\n",
    "| **Gaussian Filter** <br> $ \\frac{1}{16}\\begin{bmatrix} 1 & 2 & 1 \\\\ 2 & 4 & 2 \\\\ 1 & 2 & 1 \\end{bmatrix} $ | Обеспечивает сглаживание с меньшей потерей резкости, так как веса распределяются по нормальному закону – лучше сохраняет границы объектов по сравнению с средним фильтром. |\n",
    "| **Sobel Operator (Horizontal)** <br> $ \\begin{bmatrix} -1 & 0 & 1 \\\\ -2 & 0 & 2 \\\\ -1 & 0 & 1 \\end{bmatrix} $ | Выделяет вертикальные края, обнаруживая резкие изменения интенсивности по горизонтали. |\n",
    "| **Sobel Operator (Vertical)** <br> $ \\begin{bmatrix} -1 & -2 & -1 \\\\ 0 & 0 & 0 \\\\ 1 & 2 & 1 \\end{bmatrix} $ | Выделяет горизонтальные края, фиксируя вертикальные изменения яркости. |\n",
    "| **Laplacian Filter** <br> $ \\begin{bmatrix} 0 & 1 & 0 \\\\ 1 & -4 & 1 \\\\ 0 & 1 & 0 \\end{bmatrix} $ | Подчеркивает области резкого изменения яркости, эффективно обнаруживая края, но может быть чувствителен к шуму. |\n",
    "| **Sharpening Filter** <br> $ \\begin{bmatrix} 0 & -1 & 0 \\\\ -1 & 5 & -1 \\\\ 0 & -1 & 0 \\end{bmatrix} $ | Усиливает контраст и чёткость изображения, выделяя детали за счёт усиления резких переходов. |"
   ]
  },
  {
   "cell_type": "code",
   "execution_count": 5,
   "metadata": {},
   "outputs": [],
   "source": [
    "identity_kernel = np.array([[0, 0, 0],\n",
    "                            [0, 1, 0],\n",
    "                            [0, 0, 0]], dtype=np.float32)\n",
    "\n",
    "box_kernel = np.ones((3, 3), dtype=np.float32) / 9.0\n",
    "\n",
    "gaussian_kernel = np.array([[1, 2, 1],\n",
    "                            [2, 4, 2],\n",
    "                            [1, 2, 1]], dtype=np.float32) / 16.0\n",
    "\n",
    "sobel_horizontal = np.array([[-1, 0, 1],\n",
    "                             [-2, 0, 2],\n",
    "                             [-1, 0, 1]], dtype=np.float32)\n",
    "\n",
    "sobel_vertical = np.array([[-1, -2, -1],\n",
    "                           [ 0,  0,  0],\n",
    "                           [ 1,  2,  1]], dtype=np.float32)\n",
    "\n",
    "laplacian_kernel = np.array([[0, 1, 0],\n",
    "                             [1, -4, 1],\n",
    "                             [0, 1, 0]], dtype=np.float32)\n",
    "\n",
    "sharpening_kernel = np.array([[0, -1, 0],\n",
    "                              [-1, 5, -1],\n",
    "                              [0, -1, 0]], dtype=np.float32)"
   ]
  },
  {
   "cell_type": "code",
   "execution_count": null,
   "metadata": {},
   "outputs": [],
   "source": [
    "url = \"https://raw.githubusercontent.com/opencv/opencv/master/samples/data/lena.jpg\"\n",
    "response = requests.get(url)\n",
    "\n",
    "image_data = np.asarray(bytearray(response.content), dtype=\"uint8\")\n",
    "image = cv2.imdecode(image_data, cv2.IMREAD_GRAYSCALE)\n",
    "\n",
    "identity_image    = cv2.filter2D(image, -1, identity_kernel)\n",
    "box_blur_image    = cv2.filter2D(image, -1, box_kernel)\n",
    "gaussian_image    = cv2.filter2D(image, -1, gaussian_kernel)\n",
    "sobel_h_image     = cv2.filter2D(image, -1, sobel_horizontal)\n",
    "sobel_v_image     = cv2.filter2D(image, -1, sobel_vertical)\n",
    "laplacian_image   = cv2.filter2D(image, -1, laplacian_kernel)\n",
    "sharpened_image   = cv2.filter2D(image, -1, sharpening_kernel)\n",
    "\n",
    "fig, axes = plt.subplots(2, 4, figsize=(20, 15))\n",
    "axes = axes.flatten()\n",
    "\n",
    "titles = [\"Original\", \"Identity Filter\", \"Box Blur\", \"Gaussian Filter\",\n",
    "          \"Sobel Horizontal\", \"Sobel Vertical\", \n",
    "          \"Laplacian Filter\",\"Sharpening Filter\"]\n",
    "\n",
    "images = [image, identity_image, box_blur_image, gaussian_image,\n",
    "          sobel_h_image, sobel_v_image, laplacian_image, sharpened_image]\n",
    "\n",
    "for ax, img, title in zip(axes, images, titles):\n",
    "    ax.imshow(img, cmap='gray')\n",
    "    ax.set_title(title, fontsize=20)\n",
    "    ax.axis('off')\n",
    "\n",
    "for ax in axes[len(images):]:\n",
    "    ax.axis('off')\n",
    "\n",
    "plt.tight_layout()\n",
    "plt.show()"
   ]
  },
  {
   "cell_type": "markdown",
   "metadata": {},
   "source": [
    "### Добавление шума\n",
    "\n",
    "Шум часто моделируется для тестирования алгоритмов обработки изображений, позволяет создать более реалистичные условия.\n",
    "\n",
    "- **Gaussian Noise:**\n",
    "    Если $ n(x,y) $ – шум, распределённый по нормальному закону с математическим ожиданием 0 и дисперсией $ \\sigma^2 $, то зашумлённое изображение можно описать как:\n",
    "    $$\n",
    "    I_{noise}(x,y) = I(x,y) + n(x,y), \\quad n(x,y) \\sim \\mathcal{N}(0, \\sigma^2)\n",
    "    $$  \n",
    "    *Введение случайных колебаний яркости по нормальному распределению, имитируя электронные помехи.*\n",
    "\n",
    "- **Salt-and-Pepper Noise:**  \n",
    "    *Случайное замещение пикселей изображением белыми и чёрными точками, что моделирует выбросы ошибок при передаче данных.*\n",
    "\n",
    "- **Speckle Noise:**  \n",
    "    $$\n",
    "    I_{noise}(x,y) = I(x,y) + I(x,y) \\cdot n(x,y), \\quad n(x,y) \\sim \\mathcal{N}(0, \\sigma^2)\n",
    "    $$  \n",
    "    *Мультипликативный шум, который часто наблюдается в изображениях, полученных с использованием радаров или ультразвука.*"
   ]
  },
  {
   "cell_type": "code",
   "execution_count": 18,
   "metadata": {},
   "outputs": [],
   "source": [
    "def gaussian_noise(image, \n",
    "                   mean=0, \n",
    "                   sigma=25):\n",
    "    gauss = np.random.normal(mean, sigma, image.shape).astype('float32')\n",
    "    noisy = image.astype('float32') + gauss\n",
    "\n",
    "    noisy = np.clip(noisy, 0, 255).astype('uint8')\n",
    "    \n",
    "    return noisy\n",
    "\n",
    "def salt_and_pepper_noise(image, \n",
    "                          salt_prob=0.01, \n",
    "                          pepper_prob=0.01):\n",
    "    noisy = image.copy()\n",
    "    \n",
    "    num_salt = np.ceil(salt_prob * image.size)\n",
    "    coords = [np.random.randint(0, i, int(num_salt)) for i in image.shape]\n",
    "    noisy[coords[0], coords[1]] = 255\n",
    "    \n",
    "    num_pepper = np.ceil(pepper_prob * image.size)\n",
    "    coords = [np.random.randint(0, i, int(num_pepper)) for i in image.shape]\n",
    "\n",
    "    noisy[coords[0], coords[1]] = 0\n",
    "    \n",
    "    return noisy\n",
    "\n",
    "def speckle_noise(image, \n",
    "                  sigma=0.25):\n",
    "    \n",
    "    noise = np.random.randn(*image.shape) * sigma\n",
    "    noisy = image + image * noise\n",
    "    noisy = np.clip(noisy, 0, 255).astype('uint8')\n",
    "\n",
    "    return noisy\n",
    "\n",
    "def calc_hist(img):\n",
    "    return cv2.calcHist([img], [0], None, [256], [0, 256])"
   ]
  },
  {
   "cell_type": "code",
   "execution_count": null,
   "metadata": {},
   "outputs": [],
   "source": [
    "gaussian_img = gaussian_noise(image)\n",
    "saltpepper_img = salt_and_pepper_noise(image)\n",
    "speckle_img = speckle_noise(image)\n",
    "\n",
    "hist_original = calc_hist(image)\n",
    "hist_gaussian = calc_hist(gaussian_img)\n",
    "hist_saltpepper = calc_hist(saltpepper_img)\n",
    "hist_speckle = calc_hist(speckle_img)\n",
    "\n",
    "images = [image, gaussian_img, saltpepper_img, speckle_img]\n",
    "hists  = [hist_original, hist_gaussian, hist_saltpepper, hist_speckle]\n",
    "titles = [\"Original\", \"Gaussian Noise\", \"Salt & Pepper Noise\", \"Speckle Noise\"]\n",
    "\n",
    "fig, axs = plt.subplots(4, 2, figsize=(10, 16))\n",
    "\n",
    "for i in range(4):\n",
    "    axs[i, 0].imshow(images[i], cmap='gray')\n",
    "    axs[i, 0].set_title(titles[i])\n",
    "    axs[i, 0].axis('off')\n",
    "    \n",
    "    axs[i, 1].plot(hists[i])\n",
    "    axs[i, 1].set_title(f\"{titles[i]} Histogram\")\n",
    "    axs[i, 1].set_xlabel(\"Intensity\")\n",
    "    axs[i, 1].set_ylabel(\"Frequency\")\n",
    "\n",
    "plt.tight_layout()\n",
    "plt.show()"
   ]
  }
 ],
 "metadata": {
  "kernelspec": {
   "display_name": "base",
   "language": "python",
   "name": "python3"
  },
  "language_info": {
   "codemirror_mode": {
    "name": "ipython",
    "version": 3
   },
   "file_extension": ".py",
   "mimetype": "text/x-python",
   "name": "python",
   "nbconvert_exporter": "python",
   "pygments_lexer": "ipython3",
   "version": "3.12.3"
  }
 },
 "nbformat": 4,
 "nbformat_minor": 2
}
