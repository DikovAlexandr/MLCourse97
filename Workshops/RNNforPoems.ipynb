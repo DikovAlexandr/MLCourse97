{
 "cells": [
  {
   "cell_type": "markdown",
   "metadata": {
    "id": "kII0n1BpjqnZ"
   },
   "source": [
    "# Генеративная нейронная сеть"
   ]
  },
  {
   "cell_type": "markdown",
   "metadata": {},
   "source": [
    "Ваша основная задача: научиться генерировать стихи с помощью простой рекуррентной нейронной сети (Vanilla RNN). \n",
    "\n",
    "В качестве корпуса текстов для обучения будет выступать роман в стихах \"Евгений Онегин\" Александра Сергеевича Пушкина."
   ]
  },
  {
   "cell_type": "code",
   "execution_count": 1,
   "metadata": {
    "executionInfo": {
     "elapsed": 9349,
     "status": "ok",
     "timestamp": 1732971748455,
     "user": {
      "displayName": "Артём Благодарный",
      "userId": "00231038645499551760"
     },
     "user_tz": -180
    },
    "id": "ncGpyf-8jqne"
   },
   "outputs": [],
   "source": [
    "import string\n",
    "import os\n",
    "from random import sample\n",
    "\n",
    "import numpy as np\n",
    "import torch, torch.nn as nn\n",
    "import torch.nn.functional as F\n",
    "\n",
    "import matplotlib.pyplot as plt\n",
    "\n",
    "from IPython.display import clear_output"
   ]
  },
  {
   "cell_type": "code",
   "execution_count": 3,
   "metadata": {
    "colab": {
     "base_uri": "https://localhost:8080/"
    },
    "executionInfo": {
     "elapsed": 18,
     "status": "ok",
     "timestamp": 1732971748455,
     "user": {
      "displayName": "Артём Благодарный",
      "userId": "00231038645499551760"
     },
     "user_tz": -180
    },
    "id": "6n0LeWo2jqng",
    "outputId": "83b5159b-9b5d-42c7-9aff-a6fd1cae7af9"
   },
   "outputs": [
    {
     "data": {
      "text/plain": [
       "device(type='cpu')"
      ]
     },
     "execution_count": 3,
     "metadata": {},
     "output_type": "execute_result"
    }
   ],
   "source": [
    "device = torch.device('cuda') if torch.cuda.is_available() else torch.device('cpu')\n",
    "device"
   ]
  },
  {
   "cell_type": "markdown",
   "metadata": {
    "id": "MPenWOy01Ooa",
    "outputId": "a92e8e33-e009-4bd4-ac12-3b1b5e1cd3f2"
   },
   "source": [
    "#### 1. Загрузка данных."
   ]
  },
  {
   "cell_type": "code",
   "execution_count": 6,
   "metadata": {},
   "outputs": [
    {
     "name": "stderr",
     "output_type": "stream",
     "text": [
      "  % Total    % Received % Xferd  Average Speed   Time    Time     Time  Current\n",
      "                                 Dload  Upload   Total   Spent    Left  Speed\n",
      "\n",
      "  0     0    0     0    0     0      0      0 --:--:-- --:--:-- --:--:--     0\n",
      "  0     0    0     0    0     0      0      0 --:--:--  0:00:02 --:--:--     0\n",
      "100  256k  100  256k    0     0  82600      0  0:00:03  0:00:03 --:--:-- 82683\n"
     ]
    }
   ],
   "source": [
    "!curl -O https://raw.githubusercontent.com/neychev/small_DL_repo/master/datasets/onegin.txt"
   ]
  },
  {
   "cell_type": "code",
   "execution_count": 4,
   "metadata": {
    "colab": {
     "base_uri": "https://localhost:8080/"
    },
    "executionInfo": {
     "elapsed": 718,
     "status": "ok",
     "timestamp": 1732971749158,
     "user": {
      "displayName": "Артём Благодарный",
      "userId": "00231038645499551760"
     },
     "user_tz": -180
    },
    "id": "jMq3Q99njqng",
    "outputId": "af530973-a622-49ac-c2e8-2fa1cf1de678"
   },
   "outputs": [],
   "source": [
    "with open('onegin.txt', 'r') as iofile:\n",
    "    text = iofile.readlines()\n",
    "\n",
    "text = \"\".join([x.replace('\\t\\t', '').lower() for x in text])"
   ]
  },
  {
   "cell_type": "markdown",
   "metadata": {
    "id": "XQYpmGfR_gJ8"
   },
   "source": [
    "#### 2. Построение словаря и предобработка текста\n",
    "В данном задании требуется построить языковую модель на уровне символов. Приведем весь текст к нижнему регистру и построим словарь из всех символов в доступном корпусе текстов. Также добавим токен `<sos>`."
   ]
  },
  {
   "cell_type": "code",
   "execution_count": 9,
   "metadata": {
    "colab": {
     "base_uri": "https://localhost:8080/"
    },
    "executionInfo": {
     "elapsed": 9,
     "status": "ok",
     "timestamp": 1732971749158,
     "user": {
      "displayName": "Артём Благодарный",
      "userId": "00231038645499551760"
     },
     "user_tz": -180
    },
    "id": "vha_yQLLjqnh",
    "outputId": "703b62f7-fe0f-4f16-b5a7-139e0a6da104"
   },
   "outputs": [
    {
     "name": "stdout",
     "output_type": "stream",
     "text": [
      "All fine!\n"
     ]
    }
   ],
   "source": [
    "tokens = sorted(set(text.lower())) + ['<sos>']\n",
    "num_tokens = len(tokens)\n",
    "\n",
    "assert num_tokens == 84, \"Check the tokenization process\"\n",
    "\n",
    "token_to_idx = {x: idx for idx, x in enumerate(tokens)}\n",
    "idx_to_token = {idx: x for idx, x in enumerate(tokens)}\n",
    "\n",
    "assert len(tokens) == len(token_to_idx), \"Mapping should be unique\"\n",
    "\n",
    "print(\"All fine!\")\n",
    "\n",
    "text_encoded = [token_to_idx[x] for x in text]"
   ]
  },
  {
   "cell_type": "markdown",
   "metadata": {
    "id": "HpFG4QqBjqni"
   },
   "source": [
    "__Ваша задача__: обучить классическую рекуррентную нейронную сеть (Vanilla RNN) предсказывать следующий символ на полученном корпусе текстов и сгенерировать последовательность длины 100 для фиксированной начальной фразы.\n",
    "\n",
    "Вы можете обратиться к следующим ссылкам:\n",
    "* Статья за авторством Andrej Karpathy об использовании RNN: [link](http://karpathy.github.io/2015/05/21/rnn-effectiveness/)\n",
    "* Пример char-rnn от Andrej Karpathy: [github repo](https://github.com/karpathy/char-rnn)\n",
    "* Пример генерации по поэзии Шекспира: [github repo](https://github.com/spro/practical-pytorch/blob/master/char-rnn-generation/char-rnn-generation.ipynb)\n",
    "\n",
    "Данное задание является достаточно творческим. Не страшно, если поначалу оно вызывает затруднения. \n",
    "\n",
    "Последняя ссылка в списке выше может быть особенно полезна в данном случае.\n",
    "\n",
    "Далее для вашего удобства реализована функция, которая генерирует случайный батч размера `batch_size` из строк длиной `seq_length`. \n",
    "Вы можете использовать его при обучении модели."
   ]
  },
  {
   "cell_type": "code",
   "execution_count": 10,
   "metadata": {
    "executionInfo": {
     "elapsed": 580,
     "status": "ok",
     "timestamp": 1732971750839,
     "user": {
      "displayName": "Артём Благодарный",
      "userId": "00231038645499551760"
     },
     "user_tz": -180
    },
    "id": "KLvlq5gqjqni"
   },
   "outputs": [],
   "source": [
    "batch_size = 256\n",
    "seq_length = 100\n",
    "start_column = np.zeros((batch_size, 1), dtype=int) + token_to_idx['<sos>']\n",
    "\n",
    "def generate_chunk():\n",
    "    global text_encoded, start_column, batch_size, seq_length\n",
    "\n",
    "    start_index = np.random.randint(0, len(text_encoded) - batch_size*seq_length - 1)\n",
    "    data = np.array(text_encoded[start_index:start_index + batch_size*seq_length]).reshape((batch_size, -1))\n",
    "    yield np.hstack((start_column, data))"
   ]
  },
  {
   "cell_type": "markdown",
   "metadata": {
    "id": "9JNjFp8njqnj"
   },
   "source": [
    "Пример батча:"
   ]
  },
  {
   "cell_type": "code",
   "execution_count": 11,
   "metadata": {
    "colab": {
     "base_uri": "https://localhost:8080/"
    },
    "executionInfo": {
     "elapsed": 285,
     "status": "ok",
     "timestamp": 1732971754301,
     "user": {
      "displayName": "Артём Благодарный",
      "userId": "00231038645499551760"
     },
     "user_tz": -180
    },
    "id": "oldII3Ysjqnj",
    "outputId": "5c2b5bcf-3650-4021-efcf-ae240bd834b6"
   },
   "outputs": [
    {
     "data": {
      "text/plain": [
       "array([[83, 56, 53, ..., 45,  1, 56],\n",
       "       [83, 64, 55, ..., 58, 53, 57],\n",
       "       [83, 45, 76, ..., 58, 53, 63],\n",
       "       ...,\n",
       "       [83, 45, 49, ..., 50, 49, 53],\n",
       "       [83, 58, 50, ..., 47, 52, 76],\n",
       "       [83, 47,  1, ...,  1, 52, 45]])"
      ]
     },
     "execution_count": 11,
     "metadata": {},
     "output_type": "execute_result"
    }
   ],
   "source": [
    "next(generate_chunk())"
   ]
  },
  {
   "cell_type": "markdown",
   "metadata": {
    "id": "AKwSWbc5jqnk"
   },
   "source": [
    "Далее вам предстоит написать код для обучения модели и генерации текста."
   ]
  },
  {
   "cell_type": "code",
   "execution_count": 16,
   "metadata": {
    "executionInfo": {
     "elapsed": 328,
     "status": "ok",
     "timestamp": 1732971755493,
     "user": {
      "displayName": "Артём Благодарный",
      "userId": "00231038645499551760"
     },
     "user_tz": -180
    },
    "id": "xi9o4M1EkGK0"
   },
   "outputs": [],
   "source": [
    "import torch\n",
    "import torch.nn as nn\n",
    "from torch.autograd import Variable\n",
    "from tqdm.notebook import tqdm\n",
    "import torch.optim as optim"
   ]
  },
  {
   "cell_type": "code",
   "execution_count": 13,
   "metadata": {
    "executionInfo": {
     "elapsed": 292,
     "status": "ok",
     "timestamp": 1732971814078,
     "user": {
      "displayName": "Артём Благодарный",
      "userId": "00231038645499551760"
     },
     "user_tz": -180
    },
    "id": "9l4w4wgFD61t"
   },
   "outputs": [],
   "source": [
    "epochs = 2000\n",
    "seq_length = 100\n",
    "hidden_size = 100\n",
    "vocab_size = num_tokens\n",
    "learning_rate = 1e-3\n",
    "n_layers =1"
   ]
  },
  {
   "cell_type": "markdown",
   "metadata": {
    "id": "kPvoojdyEytf"
   },
   "source": [
    "$vs$ - vocabulary size\n",
    "\n",
    "$hs$ - hidden size\n",
    "\n",
    "$x_t\\in R^{vs}$\n",
    "\n",
    "$h_t \\in R^{hs}$\n",
    "\n",
    "$V \\in R^{vc*hs}$\n",
    "\n",
    "$W \\in R^{hs*hs}$\n",
    "\n",
    "$U \\in R^{hs*vs}$\n",
    "\n",
    "$b \\in R^{hs}$\n",
    "\n",
    "$c \\in R^{vs}$\n"
   ]
  },
  {
   "cell_type": "markdown",
   "metadata": {
    "id": "zHZ-IeSLCY9Y"
   },
   "source": [
    "$h^{(t)}(t)=tanh(b+W*h^{(t-1)}+U * x^{(t)})$\n",
    "\n",
    "$y^{(t)}=softmax(c+V*h^{(t)})$"
   ]
  },
  {
   "cell_type": "code",
   "execution_count": 18,
   "metadata": {
    "executionInfo": {
     "elapsed": 305,
     "status": "ok",
     "timestamp": 1732967964895,
     "user": {
      "displayName": "Артём Благодарный",
      "userId": "00231038645499551760"
     },
     "user_tz": -180
    },
    "id": "J5p65k2ojqnk"
   },
   "outputs": [],
   "source": [
    "class RNN:\n",
    "    def __init__(self, hidden_size, vocab_size, seq_length, learning_rate, U=None, V=None, W=None, b=None, c=None):\n",
    "        \"\"\"\n",
    "        :param hidden_size:\n",
    "        :param vocab_size: count characters in dictionary\n",
    "        :param seq_length: length of sequence of characters\n",
    "        :param learning_rate: learning rate\n",
    "        :param U: [hidden_size, vocab_size]\n",
    "        :param W: [hidden_size, hidden_size]\n",
    "        :param V: [vocab_size, hidden_size]\n",
    "        :param b: [hidden_size, 1]\n",
    "        :param c: [vocab_size, 1]\n",
    "        \"\"\"\n",
    "        self.hidden_size = hidden_size\n",
    "        self.vocab_size = vocab_size\n",
    "        self.seq_length = seq_length\n",
    "        self.learning_rate = learning_rate\n",
    "        self.U = U if U is not None else np.random.uniform(-np.sqrt(1./vocab_size), np.sqrt(1./vocab_size), (hidden_size, vocab_size)) * 0.01\n",
    "        self.V = V if V is not None else np.random.uniform(-np.sqrt(1./hidden_size), np.sqrt(1./hidden_size), (vocab_size, hidden_size)) * 0.01\n",
    "        self.W = W if W is not None else np.random.uniform(-np.sqrt(1./hidden_size), np.sqrt(1./hidden_size), (hidden_size, hidden_size)) * 0.01\n",
    "        self.b = b if b is not None else np.zeros((hidden_size, 1))\n",
    "        self.c = U if U is not None else np.zeros((vocab_size, 1))\n",
    "        self.mU, self.mW, self.mV = np.zeros_like(self.U), np.zeros_like(self.W), np.zeros_like(self.V)\n",
    "        self.mb, self.mc = np.zeros_like(self.b), np.zeros_like(self.c)\n",
    "        self._smooth_loss = -np.log(1./vocab_size) * seq_length\n",
    "\n",
    "    def forward(self, inputs, h_prev):\n",
    "        \"\"\"\n",
    "        :param inputs: [seq_len]\n",
    "        :param h_prev: [hidden_size]\n",
    "        :return xs: {seq_len, vocab_size}\n",
    "        :return hs: {seq_len + 1, hidden_size}\n",
    "        :return ycap: {seq_len, vocab_size}\n",
    "        \"\"\"\n",
    "        xs, hs, os, ycap = {}, {}, {}, {}\n",
    "        hs[-1] = np.copy(h_prev)\n",
    "        for t in np.arange(len(inputs)): # iterate throw batch\n",
    "            xs[t] = np.zeros((self.vocab_size, 1))\n",
    "            xs[t][inputs[t]] = 1 # one-hot vector\n",
    "            hs[t] = np.tanh(self.b + self.W @ hs[t-1] + self.U @ xs[t]) # hidden state\n",
    "            os[t] = self.c + self.V @ hs[t]\n",
    "            ycap[t] = self.softmax(os[t]) # probs\n",
    "        return xs, hs, ycap\n",
    "\n",
    "    def softmax(self, x, temperature=1):\n",
    "        \"\"\"\n",
    "        Compute the softmax with temperature of vector x in a numerically stable way\n",
    "        :param x: [seq_len]\n",
    "        :param temperature: float\n",
    "        :return softmax(x): [seq_len]\n",
    "        \"\"\"\n",
    "        if temperature != 1:\n",
    "            x /= temperature\n",
    "        p = np.exp(x - np.max(x))\n",
    "        return p / np.sum(p)\n",
    "\n",
    "    def loss(self, ps, targets, eps=1e-8):\n",
    "        \"\"\"\n",
    "        Calculate cross-entropy loss\n",
    "        :param ps: [seq_length, vocab_size]\n",
    "        :param targets: [seq_length]\n",
    "        :return loss: float\n",
    "        \"\"\"\n",
    "        loss = - np.sum([np.log(ps[i][y]+ eps) for i, y in enumerate(targets)], axis=0)\n",
    "        return loss / self.seq_length\n",
    "\n",
    "    def backward(self, xs, hs, ycap, targets):\n",
    "        \"\"\"\n",
    "        :param xs: {seq_length, vocab_size}\n",
    "        :param hs: {seq_length + 1, hidden_size}\n",
    "        :param ycap: {seq_length, vocab_size}\n",
    "        :param targets: [seq_length]\n",
    "        :return dU: [hidden_size, vocab_size]\n",
    "        :return dW: [hidden_size, hidden_size]\n",
    "        :return dV: [vocab_size, hidden_size]\n",
    "        :return db: [hidden_size, 1]\n",
    "        :return dc: [vocab_size, 1]\n",
    "        \"\"\"\n",
    "        dU, dW, dV = np.zeros_like(self.U), np.zeros_like(self.W), np.zeros_like(self.V)\n",
    "        db, dc =  np.zeros_like(self.b), np.zeros_like(self.c)\n",
    "        dh_next = np.zeros_like(hs[0])\n",
    "        for t in reversed(np.arange(self.seq_length)):\n",
    "            dy = np.copy(ycap[t])\n",
    "            dy[targets[t]] -= 1\n",
    "            dV += dy @ hs[t].T\n",
    "            dc += dy\n",
    "            dh = self.V.T @ dy + dh_next\n",
    "            dh_rec = (1 - hs[t-1]**2) * dh\n",
    "            db += dh_rec\n",
    "            dU += dh_rec @ xs[t].T\n",
    "            dW += dh_rec @ hs[t-1].T\n",
    "            dh_next = self.W.T @ dh_rec\n",
    "        for dparam in [dU, dW, dV, db, dc]:\n",
    "            np.clip(dparam, -5, 5, out=dparam)\n",
    "        return dU, dW, dV, db, dc\n",
    "\n",
    "\n",
    "    def update_model(self, dU, dW, dV, db, dc, ps, targets):\n",
    "        \"\"\"\n",
    "        Updates parameters of model: self.U, self.W, self.V, self.b, self.c\n",
    "        param <- param - self.lr * grad(param)\n",
    "        :param dU: [hidden_size, vocab_size]\n",
    "        :param dW: [hidden_size, hidden_size]\n",
    "        :param dV: [vocab_size, hidden_size]\n",
    "        :param db: [hidden_size, 1]\n",
    "        :param dc: [vocab_size, 1]\n",
    "        \"\"\"\n",
    "        loss = self.loss(ps, targets)\n",
    "        self._smooth_loss = self._smooth_loss * 0.999 + loss * 0.001\n",
    "        for param, dparam, mem in zip([self.U, self.W, self.V, self.b, self.c],\n",
    "                                      [dU, dW, dV, db, dc],\n",
    "                                      [self.mU, self.mW, self.mV, self.mb, self.mc]):\n",
    "            mem += dparam * dparam\n",
    "            param -= self.learning_rate * dparam / np.sqrt(mem + 1e-8)\n",
    "        return loss\n",
    "\n",
    "    def train(self, epochs, generate_chunk):\n",
    "        loss_history = []\n",
    "        for epoch in tqdm(np.arange(epochs)):\n",
    "            chunk = next(generate_chunk())\n",
    "            batch_size = chunk.shape[0]\n",
    "            inputs = chunk[:, :-1]\n",
    "            targets = chunk[:, 1:]\n",
    "            h_prev = np.zeros((self.hidden_size, 1))\n",
    "            for batch in np.arange(batch_size):\n",
    "                xs, hs, ycap = self.forward(inputs[batch], h_prev)\n",
    "                ps = np.array([ycap[t] for t in np.arange(self.seq_length)])\n",
    "                dU, dW, dV, db, dc = self.backward(xs, hs, ycap, targets[batch])\n",
    "                loss = self.update_model(dU, dW, dV, db, dc, ps, targets[batch])\n",
    "                loss_history.append(loss)\n",
    "            if epoch % 10 == 0:\n",
    "                print(f'Epoch {epoch}/{epochs}, Loss: {loss[-1]}')\n",
    "        return loss_history\n",
    "\n",
    "\n",
    "    def predict(self, token_to_idx, idx_to_token, start, n):\n",
    "        \"\"\"\n",
    "        :param data_reader: [hidden_size, vocab_size]\n",
    "        :param start: start sequence of text (string)\n",
    "        :param n: length of predicted text (int)\n",
    "        :return txt: [hidden_size, 1]\n",
    "        \"\"\"\n",
    "        x = np.zeros((self.vocab_size, 1))\n",
    "        chars = [ch for ch in start]\n",
    "        ixes = []\n",
    "        for i in np.arange(len(chars)):\n",
    "            ix = token_to_idx[chars[i]]\n",
    "            x[ix] = 1\n",
    "            ixes.append(ix)\n",
    "        h = np.zeros((self.hidden_size, 1))\n",
    "        for t in np.arange(n):\n",
    "            h = np.tanh(self.U @ x + self.W @ h + self.b)\n",
    "            y = self.V @ h + self.c\n",
    "            p = self.softmax(y)\n",
    "            ix = np.random.choice(np.arange(self.vocab_size), p=p.ravel())\n",
    "            x[ix] = 1\n",
    "            ixes.append(ix)\n",
    "        txt = ''.join(idx_to_token[i] for i in ixes)\n",
    "        return txt"
   ]
  },
  {
   "cell_type": "code",
   "execution_count": null,
   "metadata": {
    "colab": {
     "base_uri": "https://localhost:8080/"
    },
    "executionInfo": {
     "elapsed": 97838,
     "status": "ok",
     "timestamp": 1732969721113,
     "user": {
      "displayName": "Артём Благодарный",
      "userId": "00231038645499551760"
     },
     "user_tz": -180
    },
    "id": "y1w_v1J36Bhb",
    "outputId": "e23153f0-97d7-4772-e1f1-d09c7a4d4b6b"
   },
   "outputs": [],
   "source": [
    "rnn = RNN(hidden_size, vocab_size, seq_length, learning_rate)\n",
    "loss_history = rnn.train(epochs, generate_chunk)"
   ]
  },
  {
   "cell_type": "code",
   "execution_count": 36,
   "metadata": {
    "colab": {
     "base_uri": "https://localhost:8080/",
     "height": 447
    },
    "executionInfo": {
     "elapsed": 700,
     "status": "ok",
     "timestamp": 1732950887214,
     "user": {
      "displayName": "Артём Благодарный",
      "userId": "00231038645499551760"
     },
     "user_tz": -180
    },
    "id": "z_hqIes9cy1h",
    "outputId": "6c66ee9b-f9e1-491b-f2ed-972585cff61e"
   },
   "outputs": [
    {
     "data": {
      "text/plain": [
       "<matplotlib.legend.Legend at 0x7dca3315a440>"
      ]
     },
     "execution_count": 36,
     "metadata": {},
     "output_type": "execute_result"
    },
    {
     "data": {
      "image/png": "[encoded data removed]",
      "text/plain": [
       "<Figure size 640x480 with 1 Axes>"
      ]
     },
     "metadata": {},
     "output_type": "display_data"
    }
   ],
   "source": [
    "step = 100\n",
    "epochs = range(0, len(loss_history['pde']), step)\n",
    "\n",
    "plt.plot(epochs, loss_history[::step], label='loss')\n",
    "plt.legend()"
   ]
  },
  {
   "cell_type": "code",
   "execution_count": 26,
   "metadata": {
    "colab": {
     "base_uri": "https://localhost:8080/",
     "height": 69
    },
    "executionInfo": {
     "elapsed": 520,
     "status": "ok",
     "timestamp": 1732969952764,
     "user": {
      "displayName": "Артём Благодарный",
      "userId": "00231038645499551760"
     },
     "user_tz": -180
    },
    "id": "owHkOWGmfwc7",
    "outputId": "2880efef-78ce-4175-ce26-839c414f36a1"
   },
   "outputs": [
    {
     "data": {
      "application/vnd.google.colaboratory.intrinsic+json": {
       "type": "string"
      },
      "text/plain": [
       "' мой дядя самых честных правилеооееоаыесаеееараюе?ет…ерсяььн ь  ,л  н  ,ь ,н,   ч     е  неанн и   ея    и  \\nт\\nе .     м      ;  ,        \\n   \\n   \\n   \\n      \\n                  т \\nн\\n \\n \\n \\n   нн \\n\\n   \\n  \\nт\\n \\n  ,\\n \\n\\n             \\n   \\n   л     с н  х  \\n   \\n \\n  \\n \\n\\n              \\n   \\n ,\\n  \\n \\n  \\n    \\n,       \\n       \\n    , \\n\\n,\\n\\n , \\n      \\n ,       \\n\\n   \\n   \\n          \\n.   \\n        \\n    \\n    \\n  \\n н  \\n  жы, ,  !ь \\n   \\n \\n  \\n    \\nн  \\n\\n\\n  \\n  \\n  \\n   \\n   \\n\\n\\n  \\n\\n          , \\n\\n ,       \\n\\n   \\n   ,\\n  \\n    \\n   ,   ,      \\n\\n,   \\n  \\n \\n :\\n  \\n   '"
      ]
     },
     "execution_count": 26,
     "metadata": {},
     "output_type": "execute_result"
    }
   ],
   "source": [
    "rnn.predict(token_to_idx, idx_to_token, ' мой дядя самых честных правил', n=500)"
   ]
  },
  {
   "cell_type": "code",
   "execution_count": 13,
   "metadata": {
    "executionInfo": {
     "elapsed": 491,
     "status": "ok",
     "timestamp": 1732971819252,
     "user": {
      "displayName": "Артём Благодарный",
      "userId": "00231038645499551760"
     },
     "user_tz": -180
    },
    "id": "1WQZe0eICgoc"
   },
   "outputs": [],
   "source": [
    "class VanillaRNN(nn.Module):\n",
    "    def __init__(self, input_size, hidden_size, output_size, n_layers=1, dropout=0.5):\n",
    "        super(VanillaRNN, self).__init__()\n",
    "        self.input_size = input_size\n",
    "        self.hidden_size = hidden_size\n",
    "        self.n_layers = n_layers\n",
    "        self.loss_history = None\n",
    "        self.rnn = nn.GRU(input_size, hidden_size, n_layers, batch_first=True)\n",
    "        self.fc = nn.Sequential(\n",
    "            nn.LayerNorm(hidden_size),\n",
    "            nn.Linear(hidden_size, hidden_size),\n",
    "            nn.Dropout(dropout),\n",
    "            nn.Linear(hidden_size, output_size),\n",
    "        )\n",
    "\n",
    "    def forward(self, x, hidden):\n",
    "        out, hidden = self.rnn(x, hidden)\n",
    "        out = self.fc(out)\n",
    "        return out, hidden\n",
    "\n",
    "    def init_hidden(self, batch_size):\n",
    "        return torch.zeros(self.n_layers, batch_size, self.hidden_size)\n",
    "\n",
    "    def train_model(self, epochs, batch_size, criterion, optimizer):\n",
    "        self.train()\n",
    "        loss_history = []\n",
    "        for e in tqdm(np.arange(epochs), desc=\"Training Epochs\"):\n",
    "            hidden = self.init_hidden(batch_size)\n",
    "            chunk = next(generate_chunk())\n",
    "            inputs = torch.nn.functional.one_hot(torch.tensor(chunk[:, :-1]), num_classes=num_tokens).float()\n",
    "            targets = torch.tensor(chunk[:,1:]).reshape(-1)\n",
    "            optimizer.zero_grad()\n",
    "            outputs, hiddens = self(inputs, hidden)\n",
    "            outputs = outputs.view(-1, outputs.size(-1))\n",
    "            targets = targets.view(-1)\n",
    "            loss = criterion(outputs, targets)\n",
    "            loss_history.append(loss.item())\n",
    "            loss.backward()\n",
    "            optimizer.step()\n",
    "            if e % 100 == 0:\n",
    "                print(f'Epoch [{e + 1}/{epochs}], Loss: {loss_history[-1]:.4f}')\n",
    "        self.loss_history = loss_history"
   ]
  },
  {
   "cell_type": "code",
   "execution_count": null,
   "metadata": {
    "colab": {
     "background_save": true,
     "base_uri": "https://localhost:8080/"
    },
    "id": "RuE4eQXODxD4"
   },
   "outputs": [],
   "source": [
    "model = VanillaRNN(input_size=vocab_size, hidden_size=hidden_size, output_size=vocab_size)\n",
    "criterion = nn.CrossEntropyLoss()\n",
    "optimizer = optim.Adam(model.parameters(), lr=learning_rate)\n",
    "model.train_model(epochs, batch_size, criterion, optimizer)"
   ]
  },
  {
   "cell_type": "markdown",
   "metadata": {
    "id": "s0iV_bVGjqnm"
   },
   "source": [
    "Шаблон функции `generate_sample` также доступен ниже. Вы можете как дозаполнить его, так и написать свою собственную функцию с нуля. Не забывайте, что все примеры в обучающей выборке начинались с токена `<sos>`."
   ]
  },
  {
   "cell_type": "code",
   "execution_count": null,
   "metadata": {
    "id": "m3QP4VQrjqnm"
   },
   "outputs": [],
   "source": [
    "def generate_sample(char_rnn, seed_phrase=None, max_length=200, temperature=1.0, device=device):\n",
    "    '''\n",
    "    The function generates text given a phrase of length at least SEQ_LENGTH.\n",
    "    :param seed_phrase: prefix characters. The RNN is asked to continue the phrase\n",
    "    :param max_length: maximum output length, including seed_phrase\n",
    "    :param temperature: coefficient for sampling.  higher temperature produces more chaotic outputs,\n",
    "                        smaller temperature converges to the single most likely output\n",
    "    '''\n",
    "\n",
    "    if seed_phrase is not None:\n",
    "        x_sequence = [token_to_idx['<sos>']] + [token_to_idx[token] for token in seed_phrase]\n",
    "    else:\n",
    "        x_sequence = [token_to_idx['<sos>']]\n",
    "\n",
    "    x_sequence = torch.tensor([x_sequence], dtype=torch.int64).to(device)\n",
    "\n",
    "    #feed the seed phrase, if any\n",
    "\n",
    "    # your code here\n",
    "\n",
    "    return ''.join([tokens[ix] for ix in x_sequence.cpu().data.numpy()[0]])"
   ]
  },
  {
   "cell_type": "markdown",
   "metadata": {
    "id": "Dqcj0oBxjqnm"
   },
   "source": [
    "Пример текста сгенерированного обученной моделью доступен ниже. Не страшно, что в тексте много несуществующих слов. Используемая модель очень проста: это простая классическая RNN."
   ]
  },
  {
   "cell_type": "code",
   "execution_count": null,
   "metadata": {
    "id": "Pa2WDIS0jqnn",
    "outputId": "adf24486-1b17-48a5-ccf1-da42345fe9bf"
   },
   "outputs": [
    {
     "name": "stdout",
     "output_type": "stream",
     "text": [
      "<sos> мой дядя самых честных правилас;\n",
      "\n",
      "\n",
      "\n",
      "xiv\n",
      "\n",
      "но как потокой.\n",
      "\n",
      "\n",
      "\n",
      "xii\n",
      "\n",
      "«я свобред не словавран в скорей,\n",
      "для с посвялесь мне моловой,\n",
      "те ты,\n",
      "перегиной в тям праздной\n",
      "и привезут перваю вся вновся сквозь ти стала сблился,\n",
      "и старый свимарной таня обратель любова не когда и нет волностье нежной\n",
      "тишен,\n",
      "перестоком.\n",
      "«поже постаничив очествы\n",
      "в и старько забаньем и заковенью,\n",
      "ее своя моднать наводушта;\n",
      "какой нет поли своем горозный и быле и, законно он ходушних недважный плая\n",
      "с за стра.\n",
      "\n",
      "\n",
      "\n",
      "xvii\n",
      "\n",
      "\n",
      "\n",
      "\n",
      "xxvi\n",
      "\n",
      "все \n"
     ]
    }
   ],
   "source": [
    "print(generate_sample(model, ' мой дядя самых честных правил', max_length=500, temperature=0.8))"
   ]
  }
 ],
 "metadata": {
  "accelerator": "GPU",
  "anaconda-cloud": {},
  "colab": {
   "gpuType": "T4",
   "name": "",
   "version": ""
  },
  "kernelspec": {
   "display_name": "base",
   "language": "python",
   "name": "python3"
  },
  "language_info": {
   "codemirror_mode": {
    "name": "ipython",
    "version": 3
   },
   "file_extension": ".py",
   "mimetype": "text/x-python",
   "name": "python",
   "nbconvert_exporter": "python",
   "pygments_lexer": "ipython3",
   "version": "3.12.3"
  }
 },
 "nbformat": 4,
 "nbformat_minor": 0
}
