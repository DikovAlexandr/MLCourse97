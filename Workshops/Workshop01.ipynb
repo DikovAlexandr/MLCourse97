{
 "cells": [
  {
   "cell_type": "markdown",
   "metadata": {
    "id": "k3zbLLaSGH6Z"
   },
   "source": [
    "## Семинар: Базовые понятия и библиотеки"
   ]
  },
  {
   "cell_type": "markdown",
   "metadata": {
    "id": "SL3v975uGH6h"
   },
   "source": [
    "План семинара:\n",
    "- Знакомство с базовыми библиотеками — `numpy` и `pandas`\n",
    "- Простейшие задачи машинного обучения: классификацию и регрессию\n",
    "- Объяснение метрик и их анализ\n",
    "- Обучение простых моделей\n",
    "- Связь между сложностью модели и переобучением\n",
    "- Демонстрация важности данных"
   ]
  },
  {
   "cell_type": "markdown",
   "metadata": {
    "id": "ad3nBqBSGH6j"
   },
   "source": [
    "Загрузка базовых библиотек:"
   ]
  },
  {
   "cell_type": "code",
   "execution_count": null,
   "metadata": {
    "id": "Z8Iht5qhGH6l"
   },
   "outputs": [],
   "source": [
    "import numpy as np\n",
    "import pandas as pd\n",
    "import matplotlib.pyplot as plt\n",
    "\n",
    "from sklearn.model_selection import train_test_split"
   ]
  },
  {
   "cell_type": "markdown",
   "metadata": {
    "id": "4W8Eq0sTGH6n"
   },
   "source": [
    "### [NumPy](https://numpy.org/doc/stable/user/index.html)\n",
    "\n",
    "С 1995 numeric, с 2006 NumPy — «Numerical Python extensions» или просто «NumPy»\n",
    "\n",
    "Возможности библиотеки NumPy:\n",
    "* работать с многомерными массивами (таблицами)\n",
    "* быстро вычислять математические функций на многомерных массивах\n",
    "\n",
    "Ядро пакета NumPy — объект [ndarray](https://docs.scipy.org/doc/numpy/reference/generated/numpy.ndarray.html)\n",
    "\n",
    "**Важные отличия** между NumPy arrays и Python sequences:\n",
    "* NumPy array имеет фиксированную длину, которая определяется в момент его создания (в отличие от Python lists, которые могут расти динамически)\n",
    "* Элементы в NumPy array должны быть одного типа\n",
    "* Можно выполнять операции непосредственно над NumPy arrays\n",
    "\n",
    "**Скорость** NumPy достигается с помощью:\n",
    "* реализации на C\n",
    "* векторизации и броадкастинга (broadcasting). Например, произведение массивов совместимых форм."
   ]
  },
  {
   "cell_type": "markdown",
   "metadata": {
    "id": "eS3UKcU6GH6o"
   },
   "source": [
    "### Индексация"
   ]
  },
  {
   "cell_type": "markdown",
   "metadata": {
    "id": "VqBzoEfvGH6p"
   },
   "source": [
    "В NumPy работает привычная индексация Python, ура! Включая использование отрицательных индексов и срезов (slices)"
   ]
  },
  {
   "cell_type": "markdown",
   "metadata": {
    "id": "Anq_nSYTGH6q"
   },
   "source": [
    "<div class=\"alert alert-info\">\n",
    "<b>Замечание 1:</b> Индексы и срезы в многомерных массивах не нужно разделять квадратными скобками,\n",
    "т.е. вместо <b>matrix[i][j]</b> нужно использовать <b>matrix[i, j]</b>. Первое тоже работает, но сначала выдаёт строку i, потом элемент j в ней.\n",
    "</div>"
   ]
  },
  {
   "cell_type": "markdown",
   "metadata": {
    "id": "OoHXSVIrGH6q"
   },
   "source": [
    "<div class=\"alert alert-danger\">\n",
    "<b>Замечание 2:</b> Срезы в NumPy создают view, а не копии, как в случае срезов встроенных последовательностей Python (string, tuple and list).\n",
    "</div>"
   ]
  },
  {
   "cell_type": "code",
   "execution_count": null,
   "metadata": {
    "colab": {
     "base_uri": "https://localhost:8080/"
    },
    "executionInfo": {
     "elapsed": 8,
     "status": "ok",
     "timestamp": 1726638062910,
     "user": {
      "displayName": "Артём Благодарный",
      "userId": "00231038645499551760"
     },
     "user_tz": -180
    },
    "id": "YJKxBB4dGH6s",
    "outputId": "b108f5b4-69d7-489b-87e5-776656e86576"
   },
   "outputs": [],
   "source": [
    "ones_matrix = np.ones((5, 5))\n",
    "ones_submatrix_view = ones_matrix[::2,::2] # creates a view, not copy\n",
    "ones_matrix[::2,::2] = np.zeros((3, 3))\n",
    "ones_submatrix_view"
   ]
  },
  {
   "cell_type": "markdown",
   "metadata": {
    "id": "eZpuxPhJGH6v"
   },
   "source": [
    "**1.** Реализуйте функцию, принимающую на вход два одномерных массива `first_array` и `second_array` и возвращающую матрицу, в которой первый массив соответствует первому столбцу матрицы, второй — второму.\n",
    "\n",
    "Вероятно первое, что приходит вам на ум, это конкатенация и транспонирование:"
   ]
  },
  {
   "cell_type": "code",
   "execution_count": null,
   "metadata": {
    "id": "hmQk1N6rGH6w"
   },
   "outputs": [],
   "source": [
    "def construct_matrix(first_array, second_array):\n",
    "    \"\"\"\n",
    "    Construct matrix from pair of arrays\n",
    "    :param first_array: first array\n",
    "    :param second_array: second array\n",
    "    :return: constructed matrix\n",
    "    \"\"\"\n",
    "    n = len(first_array)\n",
    "    return np.hstack([first_array.reshape(n, 1), second_array.reshape(n, 1)])"
   ]
  },
  {
   "cell_type": "code",
   "execution_count": null,
   "metadata": {
    "colab": {
     "base_uri": "https://localhost:8080/"
    },
    "executionInfo": {
     "elapsed": 5,
     "status": "ok",
     "timestamp": 1726638062910,
     "user": {
      "displayName": "Артём Благодарный",
      "userId": "00231038645499551760"
     },
     "user_tz": -180
    },
    "id": "TeFqyCz4GH6x",
    "outputId": "ea6ff280-29c5-442f-b402-1384c584d26b",
    "scrolled": true
   },
   "outputs": [],
   "source": [
    "construct_matrix(np.array([1,2]),np.array([3,4]))"
   ]
  },
  {
   "cell_type": "markdown",
   "metadata": {
    "id": "lP-lmcA2GH6y"
   },
   "source": [
    "Заметим, что конкатенировать можно vertically, horizontally, depth wise методами vstack, hstack, dstack по трём осям (0, 1 и 2, соотвественно), либо в общем случае `np.concatenate`"
   ]
  },
  {
   "cell_type": "code",
   "execution_count": null,
   "metadata": {
    "colab": {
     "base_uri": "https://localhost:8080/"
    },
    "executionInfo": {
     "elapsed": 555,
     "status": "ok",
     "timestamp": 1726638064921,
     "user": {
      "displayName": "Артём Благодарный",
      "userId": "00231038645499551760"
     },
     "user_tz": -180
    },
    "id": "xguxLJ0VGH6y",
    "outputId": "7fc9872e-a1c3-4a3f-d1af-a7e57a787090"
   },
   "outputs": [],
   "source": [
    "p = np.arange(1).reshape([1, 1, 1, 1])\n",
    "p"
   ]
  },
  {
   "cell_type": "code",
   "execution_count": null,
   "metadata": {
    "colab": {
     "base_uri": "https://localhost:8080/"
    },
    "executionInfo": {
     "elapsed": 2,
     "status": "ok",
     "timestamp": 1726638065297,
     "user": {
      "displayName": "Артём Благодарный",
      "userId": "00231038645499551760"
     },
     "user_tz": -180
    },
    "id": "z1JFw75eGH6y",
    "outputId": "11645101-340b-433f-b75b-2874b084ee27"
   },
   "outputs": [],
   "source": [
    "print(\"vstack: \", np.vstack((p, p)).shape)\n",
    "print(\"hstack: \", np.hstack((p, p)).shape)\n",
    "print(\"dstack: \", np.dstack((p, p)).shape)"
   ]
  },
  {
   "cell_type": "code",
   "execution_count": null,
   "metadata": {
    "colab": {
     "base_uri": "https://localhost:8080/"
    },
    "executionInfo": {
     "elapsed": 3,
     "status": "ok",
     "timestamp": 1726638067052,
     "user": {
      "displayName": "Артём Благодарный",
      "userId": "00231038645499551760"
     },
     "user_tz": -180
    },
    "id": "cvbthbDDGH6z",
    "outputId": "51dd2a75-a63e-4c36-d3f3-5ea2c20f4dca"
   },
   "outputs": [],
   "source": [
    "np.concatenate((p, p), axis=3).shape"
   ]
  },
  {
   "cell_type": "markdown",
   "metadata": {
    "id": "-5GkuWwaGH60"
   },
   "source": [
    "Но, поскольку операция транспонирования [делает массив non-contiguous](https://numpy.org/doc/stable/user/basics.copies.html#other-operations), мы в этой задаче **запретим** ей пользоваться и порекомедуем воспользоваться, например, методом [reshape](https://numpy.org/doc/stable/reference/generated/numpy.reshape.html)."
   ]
  },
  {
   "cell_type": "markdown",
   "metadata": {
    "id": "n3ce_o75GH61"
   },
   "source": [
    "**2.** Реализуйте функцию, принимающую на вход массив целых неотрицательных чисел `nums` и возвращающую самый частый элемент массива."
   ]
  },
  {
   "cell_type": "code",
   "execution_count": null,
   "metadata": {
    "id": "XZysMovaGH61"
   },
   "outputs": [],
   "source": [
    "import numpy as np\n",
    "from scipy import stats\n",
    "def most_frequent(nums):\n",
    "    return stats.mode(nums).mode"
   ]
  },
  {
   "cell_type": "markdown",
   "metadata": {
    "id": "e6kjITZMGH62"
   },
   "source": [
    "### Переходим к работе с данными"
   ]
  },
  {
   "cell_type": "code",
   "execution_count": null,
   "metadata": {
    "id": "uzDIu6uXGH62"
   },
   "outputs": [],
   "source": [
    "data = pd.read_csv()"
   ]
  },
  {
   "cell_type": "markdown",
   "metadata": {
    "id": "k-AwDM7bGH63"
   },
   "source": [
    "В основном мы будем работать с табличкой `data`; остальное вам может пригодиться, если вы захотите знать, какое содержание стоит за кодами признаков."
   ]
  },
  {
   "cell_type": "markdown",
   "metadata": {
    "id": "4hrvEN_3GH63"
   },
   "source": [
    "## Изучение данных"
   ]
  },
  {
   "cell_type": "markdown",
   "metadata": {
    "id": "PI9YQMuCGH63"
   },
   "source": [
    "Посмотрите на данные. В этом вам поможет метод ``head`` pandas-таблички."
   ]
  },
  {
   "cell_type": "code",
   "execution_count": null,
   "metadata": {
    "colab": {
     "base_uri": "https://localhost:8080/",
     "height": 206
    },
    "executionInfo": {
     "elapsed": 364,
     "status": "ok",
     "timestamp": 1726638075263,
     "user": {
      "displayName": "Артём Благодарный",
      "userId": "00231038645499551760"
     },
     "user_tz": -180
    },
    "id": "VA_0DG29GH64",
    "outputId": "4a1b3887-5a77-44cc-f8fa-60e690a6c481"
   },
   "outputs": [],
   "source": [
    "data.head()"
   ]
  },
  {
   "cell_type": "code",
   "execution_count": null,
   "metadata": {
    "colab": {
     "base_uri": "https://localhost:8080/"
    },
    "executionInfo": {
     "elapsed": 653,
     "status": "ok",
     "timestamp": 1726638120256,
     "user": {
      "displayName": "Артём Благодарный",
      "userId": "00231038645499551760"
     },
     "user_tz": -180
    },
    "id": "mJ2Ln-ZdZAoe",
    "outputId": "5e100e87-7136-46b7-8718-029abae0ac35"
   },
   "outputs": [],
   "source": [
    "data.shape"
   ]
  },
  {
   "cell_type": "markdown",
   "metadata": {
    "id": "DNd4PkyQGH65"
   },
   "source": [
    "Посмотрим, какими бывают типы данных:"
   ]
  },
  {
   "cell_type": "code",
   "execution_count": null,
   "metadata": {},
   "outputs": [],
   "source": []
  },
  {
   "cell_type": "markdown",
   "metadata": {},
   "source": [
    "Уберем пропуски в данных"
   ]
  },
  {
   "cell_type": "code",
   "execution_count": null,
   "metadata": {
    "id": "xXI7RObfNYg8"
   },
   "outputs": [],
   "source": [
    "data[] = data[].dropna().astype(int)"
   ]
  },
  {
   "cell_type": "code",
   "execution_count": null,
   "metadata": {
    "colab": {
     "base_uri": "https://localhost:8080/"
    },
    "executionInfo": {
     "elapsed": 2,
     "status": "ok",
     "timestamp": 1726638125702,
     "user": {
      "displayName": "Артём Благодарный",
      "userId": "00231038645499551760"
     },
     "user_tz": -180
    },
    "id": "f6bg-kmIGH66",
    "outputId": "a73be8b1-b7e7-433f-f632-f24d4ce471dd",
    "scrolled": true
   },
   "outputs": [],
   "source": [
    "missing_values = data[].isna().sum()\n",
    "print(f\"Количество пропусков: {missing_values}\")"
   ]
  },
  {
   "cell_type": "code",
   "execution_count": null,
   "metadata": {
    "colab": {
     "base_uri": "https://localhost:8080/"
    },
    "executionInfo": {
     "elapsed": 2,
     "status": "ok",
     "timestamp": 1726638127300,
     "user": {
      "displayName": "Артём Благодарный",
      "userId": "00231038645499551760"
     },
     "user_tz": -180
    },
    "id": "W-xaVOKRucWb",
    "outputId": "255c494f-2e93-433d-b2bd-88d47824d7d0"
   },
   "outputs": [],
   "source": [
    "unique_values = data[].unique()\n",
    "unique_count = data[].nunique()\n",
    "print(f\"Количество уникальных значений: {unique_count}\")"
   ]
  },
  {
   "cell_type": "code",
   "execution_count": null,
   "metadata": {
    "colab": {
     "base_uri": "https://localhost:8080/"
    },
    "executionInfo": {
     "elapsed": 357,
     "status": "ok",
     "timestamp": 1726638129114,
     "user": {
      "displayName": "Артём Благодарный",
      "userId": "00231038645499551760"
     },
     "user_tz": -180
    },
    "id": "mCZGxLGkM_AI",
    "outputId": "fd123f66-78ec-4996-f3b3-85b8bd2e30d4"
   },
   "outputs": [],
   "source": [
    "from collections import Counter\n",
    "counter = Counter(data[].dropna())\n",
    "counter"
   ]
  },
  {
   "cell_type": "markdown",
   "metadata": {},
   "source": [
    "Визуализация данных"
   ]
  },
  {
   "cell_type": "code",
   "execution_count": null,
   "metadata": {},
   "outputs": [],
   "source": []
  },
  {
   "cell_type": "markdown",
   "metadata": {
    "id": "trfl5F_4GH66"
   },
   "source": [
    "**Базовая очистка данных**"
   ]
  },
  {
   "cell_type": "code",
   "execution_count": null,
   "metadata": {
    "colab": {
     "base_uri": "https://localhost:8080/"
    },
    "executionInfo": {
     "elapsed": 3,
     "status": "ok",
     "timestamp": 1726638135991,
     "user": {
      "displayName": "Артём Благодарный",
      "userId": "00231038645499551760"
     },
     "user_tz": -180
    },
    "id": "lghhH4OLX96E",
    "outputId": "936b2727-cf51-4d8d-bac0-1f67fd22d78a"
   },
   "outputs": [],
   "source": []
  },
  {
   "cell_type": "markdown",
   "metadata": {
    "id": "ATY5075lGH7F"
   },
   "source": [
    "## Формулируем задачу"
   ]
  },
  {
   "cell_type": "markdown",
   "metadata": {
    "id": "znpEgJGIGH7F"
   },
   "source": [
    "Прежде, чем решать задачу, её надо сформулировать.\n",
    "\n",
    "**Вопрос первый**: это классификация или регрессия? Подумайте над этим."
   ]
  },
  {
   "cell_type": "markdown",
   "metadata": {
    "id": "aaVuazxsGH7G"
   },
   "source": [
    "**Вопрос второй**: какие метрики мы будем использовать для оценки качества решения? Какие метрики вы предложили бы для этой задачи как для задачи классификации? А для этой задачи, как для задачи регрессии?"
   ]
  },
  {
   "cell_type": "markdown",
   "metadata": {
    "id": "VCjV_SoAGH7G"
   },
   "source": [
    "## Применяем ML"
   ]
  },
  {
   "cell_type": "markdown",
   "metadata": {
    "id": "lqkvcLSPGH7G"
   },
   "source": [
    "Теперь время разбить данные на обучающую и тестовую выборку. Делается это с помощью функции ``train_test_split`` из пакета ``sklearn``. При этом очень важно сделать две вещи:\n",
    "\n",
    "* Зафиксировать ``random_state=42``.\n",
    "* Сделать стратификацию по таргету. В противном случае у нас в трейне и тесте могут оказаться разные пропорции классов (обычно особенно страдают мало представленные классы)."
   ]
  },
  {
   "cell_type": "code",
   "execution_count": null,
   "metadata": {
    "id": "BLjVrfh4v5AG"
   },
   "outputs": [],
   "source": [
    "clean_data = data.copy()"
   ]
  },
  {
   "cell_type": "code",
   "execution_count": null,
   "metadata": {
    "id": "AF2IVpOjGH7H"
   },
   "outputs": [],
   "source": [
    "clean_data_train, clean_data_test = train_test_split(clean_data, \n",
    "                                                     stratify=clean_data[''], \n",
    "                                                     test_size=0.33, \n",
    "                                                     random_state=42)"
   ]
  },
  {
   "cell_type": "markdown",
   "metadata": {
    "id": "S161veFJGH7H"
   },
   "source": [
    "Теперь нам нужен **бейзлайн** - очень простая модель, с которой мы в дальнейшем будем сравниваться.\n",
    "\n",
    "У каждой модели есть (как минимум) два метода: `fit` (обучает модель по фичам `X` и таргету `y`) `predict` (предсказывает по фичам `X`)"
   ]
  },
  {
   "cell_type": "code",
   "execution_count": null,
   "metadata": {},
   "outputs": [],
   "source": []
  },
  {
   "cell_type": "markdown",
   "metadata": {
    "id": "lo2pNhVoGH7I"
   },
   "source": [
    "Обучим наши модели"
   ]
  },
  {
   "cell_type": "code",
   "execution_count": null,
   "metadata": {},
   "outputs": [],
   "source": []
  },
  {
   "cell_type": "markdown",
   "metadata": {
    "id": "jJG8x0tmGH7I"
   },
   "source": [
    "Обучите модели и оцените их качество на тестовой выборке. В качестве метрик возьмём RMSE (``np.sqrt`` от ``sklearn.metrics.mean_squared_error``) и ``sklearn.metrics.balanced_accuracy_score``."
   ]
  },
  {
   "cell_type": "markdown",
   "metadata": {
    "id": "V-1-O9GyGH7J"
   },
   "source": [
    "## Усложнение модели"
   ]
  },
  {
   "cell_type": "markdown",
   "metadata": {
    "id": "dGWgxl0VGH7J"
   },
   "source": [
    "Бейзлайны будут нашей отправной точкой. Строя дальнейшие модели, мы будем спрашивать себя: получилось ли лучше бейзлайна? Если нет или если не особо, то нет смысла усложнения."
   ]
  },
  {
   "cell_type": "code",
   "execution_count": null,
   "metadata": {},
   "outputs": [],
   "source": []
  },
  {
   "cell_type": "markdown",
   "metadata": {
    "id": "xbgjbwgkGH7M"
   },
   "source": [
    "Сравните обученный классификатор по метрикам с бейзлайнами. Получилось ли улучшить?"
   ]
  },
  {
   "cell_type": "markdown",
   "metadata": {},
   "source": []
  },
  {
   "cell_type": "markdown",
   "metadata": {
    "id": "4ujl3tbbGH7N"
   },
   "source": [
    "## Слишком простые и слишком сложные модели"
   ]
  },
  {
   "cell_type": "markdown",
   "metadata": {
    "id": "QF7McCHsGH7N"
   },
   "source": [
    "Бейзлайны у нас слишком просты и потому не очень полезны. Но если сложность модели растёт бесконтрольно, то тоже получается плохо.\n",
    "\n",
    "Давайте рассмотрим конкретный пример. Создадим заранее переусложненную модель."
   ]
  },
  {
   "cell_type": "code",
   "execution_count": null,
   "metadata": {},
   "outputs": [],
   "source": []
  },
  {
   "cell_type": "code",
   "execution_count": null,
   "metadata": {},
   "outputs": [],
   "source": []
  },
  {
   "cell_type": "markdown",
   "metadata": {
    "id": "fGDTpxFgGH7O"
   },
   "source": [
    "Налицо переобучение: на трейне метрики отличные, на тесте - вообще никакие\n",
    "\n",
    "В общем, не гонитесь за чрезмерной сложностью модели.."
   ]
  },
  {
   "cell_type": "markdown",
   "metadata": {
    "id": "YTU2yubYGH7O"
   },
   "source": [
    "## ML без данных что компутер без электричества"
   ]
  },
  {
   "cell_type": "markdown",
   "metadata": {
    "id": "DBVOCVf2GH7P"
   },
   "source": [
    "Возможно, вы смотрите на полученные выше результаты и думаете: вот если бы мы не какие-то убогие медианы предсказывали, а гоняли бы нейросети, то тут-то бы всё и получилось!\n",
    "\n",
    "Но, увы, совсем даже не всегда от счастья нас отделяет выбор хорошей модели (и стратегии обучения). Если данные не очень, то даже самая крутая модель не сработает. В этой ситуации нужно либо добывать новые фичи каким-то образом, либо собирать новые данные (увеличивать датасет), либо просто бросать задачу.\n",
    "\n",
    "Давайте посмотрим, что выжмет из наших данных одна из самых мощных моделей для табличных данных - градиентный бустинг на решающих деревьях в исполнении [CatBoost](https://catboost.ai/)."
   ]
  },
  {
   "cell_type": "markdown",
   "metadata": {},
   "source": [
    "### Про разреженные данные"
   ]
  },
  {
   "cell_type": "markdown",
   "metadata": {
    "id": "IJKuMtNbGH7P"
   },
   "source": [
    "Если в матрице почти все элементы равны нулю, то такие матрицы считаются **разреженными** и их можно хранить гораздо эффективней, чем просто таблицей.\n",
    "\n",
    "Есть несколько форматов хранения разреженных матриц (многие из них реализованы в [пакете sparse библиотеки scipy](https://docs.scipy.org/doc/scipy/reference/sparse.html)), и каждый пригоден для чего-то своего.\n",
    "\n",
    "Создавать разреженную матрицу лучше в [формате COO](https://docs.scipy.org/doc/scipy/reference/generated/scipy.sparse.coo_array.html#scipy.sparse.coo_array). Он предполагает, что разреженная матрица задаётся в виде трёх списков: `row`, `col`, `data`, причём каждая тройка `(row[i], col[i], data[i])` кодирует элемент со значением `data[i]`, стоящий на позиции `(row[i], col[i])`. Считается, что на позициях `(row, col)`, которые ни разу не встретились, стоят нули.\n",
    "\n",
    "Нетрудно видеть, что заполнять такую матрицу - одно удовольствие, и особенно этому помогает тот факт, что **пара `(row, col)` может встретиться несколько раз** (тогда в итоговой матрице на соответствующей позиции стоит сумма соответствующих `data[i]`). Но, с другой стороны, почти ничего другого с такой матрицей не сделаешь: произвольного доступа к элементам она не предоставляет, умножить её тоже особо ничего не умножишь. Поэтому для дальнейшего использования созданную таким образом матрицу преобразуют в один из более удобных форматов, например, [CSR (compressed sparse row)](https://scipy-lectures.org/advanced/scipy_sparse/csr_matrix.html). Он, к примеру, хорошо подходит для умножения на вектор (потому что матрица хранится по строкам). Не будем разбирать его подробно, но можете почитать по ссылке, если интересно."
   ]
  },
  {
   "cell_type": "code",
   "execution_count": null,
   "metadata": {},
   "outputs": [],
   "source": []
  }
 ],
 "metadata": {
  "colab": {
   "provenance": []
  },
  "kernelspec": {
   "display_name": "Python 3 (ipykernel)",
   "language": "python",
   "name": "python3"
  },
  "language_info": {
   "codemirror_mode": {
    "name": "ipython",
    "version": 3
   },
   "file_extension": ".py",
   "mimetype": "text/x-python",
   "name": "python",
   "nbconvert_exporter": "python",
   "pygments_lexer": "ipython3",
   "version": "3.8.10"
  }
 },
 "nbformat": 4,
 "nbformat_minor": 0
}
